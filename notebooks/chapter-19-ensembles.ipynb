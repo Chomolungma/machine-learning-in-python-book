{
 "cells": [
  {
   "cell_type": "code",
   "execution_count": 1,
   "metadata": {},
   "outputs": [],
   "source": [
    "import pandas as pd\n",
    "import numpy as np\n",
    "import matplotlib.pyplot as plt\n",
    "%matplotlib inline"
   ]
  },
  {
   "cell_type": "markdown",
   "metadata": {},
   "source": [
    "## Read wine clasification data"
   ]
  },
  {
   "cell_type": "code",
   "execution_count": null,
   "metadata": {},
   "outputs": [],
   "source": []
  },
  {
   "cell_type": "code",
   "execution_count": 2,
   "metadata": {},
   "outputs": [
    {
     "name": "stdout",
     "output_type": "stream",
     "text": [
      "   fixed acidity  volatile acidity  citric acid  residual sugar  chlorides  \\\n",
      "0            7.0              0.27         0.36            20.7      0.045   \n",
      "1            6.3              0.30         0.34             1.6      0.049   \n",
      "2            8.1              0.28         0.40             6.9      0.050   \n",
      "\n",
      "   free sulfur dioxide  total sulfur dioxide  density    pH  sulphates  \\\n",
      "0                 45.0                 170.0   1.0010  3.00       0.45   \n",
      "1                 14.0                 132.0   0.9940  3.30       0.49   \n",
      "2                 30.0                  97.0   0.9951  3.26       0.44   \n",
      "\n",
      "   alcohol  quality  \n",
      "0      8.8        6  \n",
      "1      9.5        6  \n",
      "2     10.1        6  \n",
      "Index(['fixed acidity', 'volatile acidity', 'citric acid', 'residual sugar',\n",
      "       'chlorides', 'free sulfur dioxide', 'total sulfur dioxide', 'density',\n",
      "       'pH', 'sulphates', 'alcohol', 'quality'],\n",
      "      dtype='object')\n"
     ]
    }
   ],
   "source": [
    "white=pd.read_csv(\"https://archive.ics.uci.edu/ml/machine-learning-databases/wine-quality/winequality-white.csv\",\n",
    "               sep=\";\")\n",
    "print(white[:3])\n",
    "print(white.columns)"
   ]
  },
  {
   "cell_type": "code",
   "execution_count": 3,
   "metadata": {},
   "outputs": [
    {
     "data": {
      "text/html": [
       "<div>\n",
       "<style scoped>\n",
       "    .dataframe tbody tr th:only-of-type {\n",
       "        vertical-align: middle;\n",
       "    }\n",
       "\n",
       "    .dataframe tbody tr th {\n",
       "        vertical-align: top;\n",
       "    }\n",
       "\n",
       "    .dataframe thead th {\n",
       "        text-align: right;\n",
       "    }\n",
       "</style>\n",
       "<table border=\"1\" class=\"dataframe\">\n",
       "  <thead>\n",
       "    <tr style=\"text-align: right;\">\n",
       "      <th></th>\n",
       "      <th>fixed acidity</th>\n",
       "      <th>volatile acidity</th>\n",
       "      <th>citric acid</th>\n",
       "      <th>residual sugar</th>\n",
       "      <th>chlorides</th>\n",
       "      <th>free sulfur dioxide</th>\n",
       "      <th>total sulfur dioxide</th>\n",
       "      <th>density</th>\n",
       "      <th>pH</th>\n",
       "      <th>sulphates</th>\n",
       "      <th>alcohol</th>\n",
       "      <th>quality</th>\n",
       "    </tr>\n",
       "  </thead>\n",
       "  <tbody>\n",
       "    <tr>\n",
       "      <th>0</th>\n",
       "      <td>7.0</td>\n",
       "      <td>0.27</td>\n",
       "      <td>0.36</td>\n",
       "      <td>20.7</td>\n",
       "      <td>0.045</td>\n",
       "      <td>45.0</td>\n",
       "      <td>170.0</td>\n",
       "      <td>1.0010</td>\n",
       "      <td>3.00</td>\n",
       "      <td>0.45</td>\n",
       "      <td>8.8</td>\n",
       "      <td>6</td>\n",
       "    </tr>\n",
       "    <tr>\n",
       "      <th>1</th>\n",
       "      <td>6.3</td>\n",
       "      <td>0.30</td>\n",
       "      <td>0.34</td>\n",
       "      <td>1.6</td>\n",
       "      <td>0.049</td>\n",
       "      <td>14.0</td>\n",
       "      <td>132.0</td>\n",
       "      <td>0.9940</td>\n",
       "      <td>3.30</td>\n",
       "      <td>0.49</td>\n",
       "      <td>9.5</td>\n",
       "      <td>6</td>\n",
       "    </tr>\n",
       "    <tr>\n",
       "      <th>2</th>\n",
       "      <td>8.1</td>\n",
       "      <td>0.28</td>\n",
       "      <td>0.40</td>\n",
       "      <td>6.9</td>\n",
       "      <td>0.050</td>\n",
       "      <td>30.0</td>\n",
       "      <td>97.0</td>\n",
       "      <td>0.9951</td>\n",
       "      <td>3.26</td>\n",
       "      <td>0.44</td>\n",
       "      <td>10.1</td>\n",
       "      <td>6</td>\n",
       "    </tr>\n",
       "  </tbody>\n",
       "</table>\n",
       "</div>"
      ],
      "text/plain": [
       "   fixed acidity  volatile acidity  citric acid  residual sugar  chlorides  \\\n",
       "0            7.0              0.27         0.36            20.7      0.045   \n",
       "1            6.3              0.30         0.34             1.6      0.049   \n",
       "2            8.1              0.28         0.40             6.9      0.050   \n",
       "\n",
       "   free sulfur dioxide  total sulfur dioxide  density    pH  sulphates  \\\n",
       "0                 45.0                 170.0   1.0010  3.00       0.45   \n",
       "1                 14.0                 132.0   0.9940  3.30       0.49   \n",
       "2                 30.0                  97.0   0.9951  3.26       0.44   \n",
       "\n",
       "   alcohol  quality  \n",
       "0      8.8        6  \n",
       "1      9.5        6  \n",
       "2     10.1        6  "
      ]
     },
     "execution_count": 3,
     "metadata": {},
     "output_type": "execute_result"
    }
   ],
   "source": [
    "white[:3]"
   ]
  },
  {
   "cell_type": "markdown",
   "metadata": {},
   "source": [
    "# basic decision tree on wine quality"
   ]
  },
  {
   "cell_type": "code",
   "execution_count": 4,
   "metadata": {},
   "outputs": [],
   "source": [
    "Y=np.array(white[\"quality\"])\n",
    "X=np.array(white)[:,:-1]"
   ]
  },
  {
   "cell_type": "code",
   "execution_count": null,
   "metadata": {},
   "outputs": [],
   "source": []
  },
  {
   "cell_type": "code",
   "execution_count": 5,
   "metadata": {},
   "outputs": [
    {
     "name": "stderr",
     "output_type": "stream",
     "text": [
      "/home/mathman/.local/lib/python3.6/site-packages/sklearn/ensemble/weight_boosting.py:29: DeprecationWarning: numpy.core.umath_tests is an internal NumPy module and should not be imported. It will be removed in a future NumPy release.\n",
      "  from numpy.core.umath_tests import inner1d\n"
     ]
    }
   ],
   "source": [
    "from sklearn.tree import DecisionTreeClassifier\n",
    "from sklearn.metrics import accuracy_score,confusion_matrix\n",
    "from sklearn.ensemble import GradientBoostingClassifier, \\\n",
    "   BaggingClassifier, RandomForestClassifier\n",
    "from sklearn.model_selection import train_test_split\n",
    "\n",
    "XTRAIN, XTEST, YTRAIN, YTEST=train_test_split(X,Y)"
   ]
  },
  {
   "cell_type": "code",
   "execution_count": 6,
   "metadata": {},
   "outputs": [],
   "source": [
    "def clf_test(clf, X, Y, nruns):\n",
    "    accs=[]\n",
    "    for j in range(nruns):\n",
    "        XTRAIN, XTEST, YTRAIN, YTEST=train_test_split(X,Y)\n",
    "        clf.fit(XTRAIN, YTRAIN)\n",
    "        YP=clf.predict(XTEST)\n",
    "        acc=accuracy_score(YTEST,YP)\n",
    "        accs.append(acc) \n",
    "    return(np.mean(accs), np.std(accs))"
   ]
  },
  {
   "cell_type": "code",
   "execution_count": 7,
   "metadata": {},
   "outputs": [
    {
     "name": "stdout",
     "output_type": "stream",
     "text": [
      "0.4509714285714286 0.019938537796506638\n"
     ]
    }
   ],
   "source": [
    "DT=DecisionTreeClassifier(max_depth=1)\n",
    "truncDTacc, sigmatrunc=clf_test(DT,X,Y,25)\n",
    "print(truncDTacc, sigmatrunc)"
   ]
  },
  {
   "cell_type": "code",
   "execution_count": 8,
   "metadata": {},
   "outputs": [
    {
     "name": "stdout",
     "output_type": "stream",
     "text": [
      "0.5986938775510204 0.013809195398393802\n"
     ]
    }
   ],
   "source": [
    "DT=DecisionTreeClassifier(max_depth=None)\n",
    "meanDTacc,sigmafull=clf_test(DT,X,Y,25)\n",
    "print(meanDTacc,sigmafull)"
   ]
  },
  {
   "cell_type": "code",
   "execution_count": 9,
   "metadata": {},
   "outputs": [
    {
     "data": {
      "text/plain": [
       "array([[  0,   0,   0,   0,   0,   0,   0],\n",
       "       [  0,   0,   0,   0,   0,   0,   0],\n",
       "       [  0,  27, 161,  83,   5,   0,   0],\n",
       "       [  4,  19, 220, 450, 171,  27,   1],\n",
       "       [  0,   0,   1,  19,  29,   8,   0],\n",
       "       [  0,   0,   0,   0,   0,   0,   0],\n",
       "       [  0,   0,   0,   0,   0,   0,   0]])"
      ]
     },
     "execution_count": 9,
     "metadata": {},
     "output_type": "execute_result"
    }
   ],
   "source": [
    "DT=DecisionTreeClassifier(max_depth=3)\n",
    "DT.fit(XTRAIN,YTRAIN)\n",
    "YP=DT.predict(XTEST)\n",
    "confusion_matrix(YP,YTEST)"
   ]
  },
  {
   "cell_type": "markdown",
   "metadata": {},
   "source": [
    "## Boosting"
   ]
  },
  {
   "cell_type": "code",
   "execution_count": 10,
   "metadata": {},
   "outputs": [],
   "source": [
    "from sklearn.ensemble import GradientBoostingClassifier"
   ]
  },
  {
   "cell_type": "code",
   "execution_count": 11,
   "metadata": {
    "scrolled": true
   },
   "outputs": [
    {
     "name": "stdout",
     "output_type": "stream",
     "text": [
      "0.6212244897959184\n"
     ]
    },
    {
     "data": {
      "text/plain": [
       "array([[  0,   0,   1,   3,   0,   0,   0],\n",
       "       [  2,  11,  22,  11,   0,   0,   0],\n",
       "       [  2,   7, 216, 152,   5,   0,   0],\n",
       "       [  2,   2,  67, 427,  51,   3,   0],\n",
       "       [  0,   0,   3, 107,  94,   1,   0],\n",
       "       [  0,   0,   0,  12,  10,  13,   0],\n",
       "       [  0,   0,   0,   1,   0,   0,   0]])"
      ]
     },
     "execution_count": 11,
     "metadata": {},
     "output_type": "execute_result"
    }
   ],
   "source": [
    "GB=GradientBoostingClassifier()\n",
    "GB.fit(XTRAIN,YTRAIN)\n",
    "GP=GB.predict(XTEST)\n",
    "print(accuracy_score(YTEST,GP))\n",
    "confusion_matrix(YTEST,GP)"
   ]
  },
  {
   "cell_type": "code",
   "execution_count": 12,
   "metadata": {},
   "outputs": [],
   "source": [
    "def multi_score(clf, X, Y, repeats, treelist):\n",
    "    results=[]\n",
    "    for ntrees in treelist:\n",
    "        classifier=clf(n_estimators=ntrees)\n",
    "        mu,sigma=clf_test(classifier,X,Y,repeats)\n",
    "        results.append([mu,sigma])\n",
    "        print(ntrees,mu,sigma)\n",
    "    mus=np.array(results).T[0]\n",
    "    sigs=np.array(results).T[1]\n",
    "    return(mus,sigs)"
   ]
  },
  {
   "cell_type": "code",
   "execution_count": 13,
   "metadata": {},
   "outputs": [
    {
     "name": "stdout",
     "output_type": "stream",
     "text": [
      "2 0.5253551020408164 0.016264502579183646\n",
      "3 0.5308408163265306 0.01275251500294974\n",
      "4 0.5378612244897958 0.01164190394781695\n",
      "5 0.5395265306122449 0.014383886583702323\n",
      "7 0.5398857142857143 0.01490797315108773\n",
      "10 0.5443265306122449 0.013187148085752609\n",
      "20 0.5588571428571428 0.011325482576995657\n",
      "30 0.5694367346938776 0.012665600107080205\n",
      "40 0.5728979591836735 0.015100055026640793\n",
      "50 0.5762612244897959 0.010883613580275833\n",
      "70 0.5845551020408163 0.011488867182531927\n",
      "100 0.5956571428571429 0.013397149516234785\n",
      "300 0.6284408163265307 0.01648200260372622\n",
      "500 0.6432979591836735 0.009837950640402647\n",
      "[0.5253551  0.53084082 0.53786122 0.53952653 0.53988571 0.54432653\n",
      " 0.55885714 0.56943673 0.57289796 0.57626122 0.5845551  0.59565714\n",
      " 0.62844082 0.64329796]\n",
      "[0.0162645  0.01275252 0.0116419  0.01438389 0.01490797 0.01318715\n",
      " 0.01132548 0.0126656  0.01510006 0.01088361 0.01148887 0.01339715\n",
      " 0.016482   0.00983795]\n"
     ]
    }
   ],
   "source": [
    "maxtrees=[2,3,4,5, 7,10,20,30,40,50,70,100,300,500] #\n",
    "gboostscores, gboostsigmas=multi_score(GradientBoostingClassifier,X,Y,25,maxtrees)\n",
    "print(gboostscores)\n",
    "print(gboostsigmas)"
   ]
  },
  {
   "cell_type": "markdown",
   "metadata": {},
   "source": [
    "## Bagging"
   ]
  },
  {
   "cell_type": "code",
   "execution_count": 14,
   "metadata": {},
   "outputs": [
    {
     "name": "stdout",
     "output_type": "stream",
     "text": [
      "0.6563265306122449\n"
     ]
    },
    {
     "data": {
      "text/plain": [
       "array([[  0,   0,   0,   3,   0,   1,   0],\n",
       "       [  0,  13,  21,  12,   0,   0,   0],\n",
       "       [  0,   9, 260, 103,  10,   0,   0],\n",
       "       [  0,   1,  89, 396,  64,   2,   0],\n",
       "       [  0,   0,   5,  77, 119,   4,   0],\n",
       "       [  0,   0,   1,   8,  10,  16,   0],\n",
       "       [  0,   0,   1,   0,   0,   0,   0]])"
      ]
     },
     "execution_count": 14,
     "metadata": {},
     "output_type": "execute_result"
    }
   ],
   "source": [
    "from sklearn.ensemble import BaggingClassifier\n",
    "BC=BaggingClassifier()\n",
    "BC.fit(XTRAIN,YTRAIN)\n",
    "YP=BC.predict(XTEST)\n",
    "print(accuracy_score(YTEST,YP))\n",
    "confusion_matrix(YTEST,YP)"
   ]
  },
  {
   "cell_type": "code",
   "execution_count": 15,
   "metadata": {},
   "outputs": [
    {
     "name": "stdout",
     "output_type": "stream",
     "text": [
      "2 0.5469387755102042 0.015523088096659244\n",
      "3 0.5842448979591837 0.009257661145193033\n",
      "4 0.608326530612245 0.015453386802956808\n",
      "5 0.6202448979591837 0.014091035015394758\n",
      "7 0.6365714285714286 0.007794101722305328\n",
      "10 0.6433469387755102 0.008084930269296832\n",
      "20 0.6591020408163265 0.014612928954459172\n",
      "30 0.6613061224489797 0.013710640915083956\n",
      "40 0.6648163265306123 0.008663836187050841\n",
      "50 0.6642448979591837 0.008935326890433316\n",
      "70 0.6724081632653062 0.011139492651961631\n",
      "100 0.6769795918367347 0.010909800186451098\n",
      "300 0.671265306122449 0.008860433884959435\n",
      "500 0.6755102040816328 0.008959160429517521\n",
      "[0.54693878 0.5842449  0.60832653 0.6202449  0.63657143 0.64334694\n",
      " 0.65910204 0.66130612 0.66481633 0.6642449  0.67240816 0.67697959\n",
      " 0.67126531 0.6755102 ]\n",
      "[0.01552309 0.00925766 0.01545339 0.01409104 0.0077941  0.00808493\n",
      " 0.01461293 0.01371064 0.00866384 0.00893533 0.01113949 0.0109098\n",
      " 0.00886043 0.00895916]\n"
     ]
    }
   ],
   "source": [
    "from sklearn.ensemble import BaggingClassifier\n",
    "bagscores, bagsigmas=multi_score(BaggingClassifier,X,Y,10,maxtrees)\n",
    "print(bagscores)\n",
    "print(bagsigmas)"
   ]
  },
  {
   "cell_type": "code",
   "execution_count": 16,
   "metadata": {},
   "outputs": [
    {
     "name": "stdout",
     "output_type": "stream",
     "text": [
      "0.643265306122449\n",
      "[[  0   0   0   0   0   0   0]\n",
      " [  0  14   8   4   0   0   0]\n",
      " [  1  26 251  87   5   0   1]\n",
      " [  2   6 110 393  82  10   0]\n",
      " [  1   0  13  67 115  10   0]\n",
      " [  0   0   0   1   3  15   0]\n",
      " [  0   0   0   0   0   0   0]]\n"
     ]
    }
   ],
   "source": [
    "#from sklearn.ensemble import BaggingClassifier\n",
    "BC=BaggingClassifier()\n",
    "BC.fit(XTRAIN,YTRAIN)\n",
    "YP=BC.predict(XTEST)\n",
    "acc=accuracy_score(YP,YTEST)\n",
    "print(acc)\n",
    "print(confusion_matrix(YP,YTEST))"
   ]
  },
  {
   "cell_type": "markdown",
   "metadata": {},
   "source": [
    "## Random Forests"
   ]
  },
  {
   "cell_type": "code",
   "execution_count": 17,
   "metadata": {},
   "outputs": [
    {
     "name": "stdout",
     "output_type": "stream",
     "text": [
      "2 0.5508571428571429 0.017621311545249988\n",
      "3 0.5815510204081633 0.014789710168350399\n",
      "4 0.6046530612244898 0.009590012853082235\n",
      "5 0.6212244897959184 0.01188028582022947\n",
      "7 0.6267755102040816 0.01339273177783889\n",
      "10 0.6529795918367347 0.011949916308985337\n",
      "20 0.6697142857142857 0.012142153984099938\n",
      "30 0.6707755102040817 0.012855782240931084\n",
      "40 0.6735510204081633 0.010296398726683935\n",
      "50 0.6746122448979592 0.008508613368682702\n",
      "70 0.6782857142857143 0.014458200678063185\n",
      "100 0.6751020408163265 0.008428349060663068\n",
      "300 0.6813061224489796 0.011649182670598007\n",
      "500 0.6768163265306122 0.00957888835099442\n",
      "[0.55085714 0.58155102 0.60465306 0.62122449 0.62677551 0.65297959\n",
      " 0.66971429 0.67077551 0.67355102 0.67461224 0.67828571 0.67510204\n",
      " 0.68130612 0.67681633] [0.01762131 0.01478971 0.00959001 0.01188029 0.01339273 0.01194992\n",
      " 0.01214215 0.01285578 0.0102964  0.00850861 0.0144582  0.00842835\n",
      " 0.01164918 0.00957889]\n"
     ]
    }
   ],
   "source": [
    "from sklearn.ensemble import RandomForestClassifier\n",
    "RFScores, RFSigmas=multi_score(RandomForestClassifier,X,Y,10,maxtrees)\n",
    "print(RFScores, RFSigmas)"
   ]
  },
  {
   "cell_type": "code",
   "execution_count": 18,
   "metadata": {},
   "outputs": [
    {
     "name": "stdout",
     "output_type": "stream",
     "text": [
      "0.64\n",
      "[[  0   0   0   0   0   0   0]\n",
      " [  0  11   6   1   0   0   0]\n",
      " [  1  20 244  91   8   0   0]\n",
      " [  3  13 124 397  79  10   1]\n",
      " [  0   2   8  61 116   9   0]\n",
      " [  0   0   0   2   2  16   0]\n",
      " [  0   0   0   0   0   0   0]]\n"
     ]
    }
   ],
   "source": [
    "from sklearn.ensemble import RandomForestClassifier\n",
    "RF=RandomForestClassifier()\n",
    "RF.fit(XTRAIN,YTRAIN)\n",
    "YP=RF.predict(XTEST)\n",
    "acc=accuracy_score(YP,YTEST)\n",
    "print(acc)\n",
    "print(confusion_matrix(YP,YTEST))"
   ]
  },
  {
   "cell_type": "code",
   "execution_count": null,
   "metadata": {},
   "outputs": [],
   "source": [
    "\n",
    "\n"
   ]
  },
  {
   "cell_type": "code",
   "execution_count": 19,
   "metadata": {},
   "outputs": [
    {
     "data": {
      "image/png": "[encoded data removed]",
      "text/plain": [
       "<Figure size 576x288 with 1 Axes>"
      ]
     },
     "metadata": {
      "needs_background": "light"
     },
     "output_type": "display_data"
    }
   ],
   "source": [
    "plt.plot(maxtrees, 1-bagscores, label=\"Bagging\",ls=\":\",  lw=2, color=\"red\")\n",
    "plt.scatter(maxtrees, 1-bagscores, color=\"red\")\n",
    "plt.errorbar(maxtrees, 1-bagscores, yerr=1.96*bagsigmas, color=\"red\", ls=\":\", lw=2)\n",
    "\n",
    "plt.plot(maxtrees, 1-gboostscores, label=\"Gradient Boost\",ls=\"--\",color=\"green\")\n",
    "plt.scatter(maxtrees, 1-gboostscores, color=\"green\")\n",
    "plt.errorbar(maxtrees,1-gboostscores,yerr=1.96*gboostsigmas,color=\"green\",\n",
    "            ls=\"--\")\n",
    "\n",
    "plt.plot(maxtrees, 1-RFScores, label=\"Random Forests\",ls=\"-.\", color=\"blue\")\n",
    "plt.scatter(maxtrees,1-RFScores, color=\"blue\")\n",
    "plt.errorbar(maxtrees, 1-RFScores, yerr=1.96*RFSigmas, color=\"blue\",ls=\"-.\")\n",
    "\n",
    "\n",
    "plt.plot([1,500],[1-meanDTacc,1-meanDTacc], # label=\"Full Decision Tree\",\n",
    "         lw=.75, color=\"purple\")\n",
    "plt.fill_between([1,500],[1-meanDTacc-1.96*sigmafull,1-meanDTacc-1.96*sigmafull],\n",
    "               [1-meanDTacc+1.96*sigmafull, 1-meanDTacc+1.96*sigmafull], \n",
    "                 color=\"purple\", alpha=.15)\n",
    "\n",
    "plt.plot([1,500],[1-truncDTacc,1-truncDTacc], # label=\"Truncated Decision Tree\",\n",
    "         lw=.75, color=\"purple\")\n",
    "plt.fill_between([1,500],[1-truncDTacc-1.96*sigmatrunc,1-truncDTacc-1.96*sigmatrunc],\n",
    "               [1-truncDTacc+1.96*sigmatrunc, 1-truncDTacc+1.96*sigmatrunc], \n",
    "                 color=\"purple\", alpha=.15)\n",
    "\n",
    "\n",
    "\n",
    "truncDTacc\n",
    "ax=plt.gca()\n",
    "plt.legend(fontsize=12)#, ncol=2)\n",
    "plt.xscale(\"log\")\n",
    "plt.xticks([1,2,3,5,10,20, 30, 50, 100,200, 300, 500],\n",
    "           [\"1\",\"2\",\"3\",\"5\",\"10\",\"20\",\"30\", \"50\",\"100\",\"200\",\"300\", \"500\"]);\n",
    "plt.xlim([2,500])\n",
    "plt.xlabel(\"Number of Trees\",fontsize=14)\n",
    "plt.ylabel(\"Error Rate\",fontsize=14)\n",
    "plt.grid(which=\"both\")\n",
    "ax=plt.gca()\n",
    "ax.tick_params(axis = 'both', which = 'major', labelsize = 12)\n",
    "plt.text(4,.56,\"Truncated Decision Tree\", fontsize=12)\n",
    "plt.text(6,.41,\"Full Decision Tree\", fontsize=12)\n",
    "fig=plt.gcf()\n",
    "fig.tight_layout()\n",
    "fig.set_size_inches(8,4)\n",
    "fig.savefig(\"white-wine-ensemble-error-vs-number-of-trees.pdf\")"
   ]
  },
  {
   "cell_type": "code",
   "execution_count": null,
   "metadata": {},
   "outputs": [],
   "source": []
  }
 ],
 "metadata": {
  "kernelspec": {
   "display_name": "Python 3",
   "language": "python",
   "name": "python3"
  },
  "language_info": {
   "codemirror_mode": {
    "name": "ipython",
    "version": 3
   },
   "file_extension": ".py",
   "mimetype": "text/x-python",
   "name": "python",
   "nbconvert_exporter": "python",
   "pygments_lexer": "ipython3",
   "version": "3.6.7"
  }
 },
 "nbformat": 4,
 "nbformat_minor": 2
}
