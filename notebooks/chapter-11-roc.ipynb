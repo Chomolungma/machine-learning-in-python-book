{
 "cells": [
  {
   "cell_type": "code",
   "execution_count": 1,
   "metadata": {},
   "outputs": [],
   "source": [
    "import numpy as np\n",
    "import pandas as pd\n",
    "import matplotlib.pyplot as plt\n",
    "%matplotlib inline"
   ]
  },
  {
   "cell_type": "code",
   "execution_count": 2,
   "metadata": {},
   "outputs": [
    {
     "name": "stdout",
     "output_type": "stream",
     "text": [
      "    mpg  cyl  displ     hp  weight  accel  model  origin  \\\n",
      "0  18.0    8  307.0  130.0  3504.0   12.0     70       1   \n",
      "1  15.0    8  350.0  165.0  3693.0   11.5     70       1   \n",
      "2  18.0    8  318.0  150.0  3436.0   11.0     70       1   \n",
      "3  16.0    8  304.0  150.0  3433.0   12.0     70       1   \n",
      "4  17.0    8  302.0  140.0  3449.0   10.5     70       1   \n",
      "\n",
      "                       carname  \n",
      "0  \"chevrolet chevelle malibu\"  \n",
      "1          \"buick skylark 320\"  \n",
      "2         \"plymouth satellite\"  \n",
      "3              \"amc rebel sst\"  \n",
      "4                \"ford torino\"  \n"
     ]
    }
   ],
   "source": [
    "data=pd.read_fwf(\"https://archive.ics.uci.edu/ml/machine-learning-databases/auto-mpg/auto-mpg.data\",\n",
    "                 header=None,na_values=\"?\")\n",
    "data.columns=(\"mpg\",\"cyl\",\"displ\",\"hp\",\"weight\",\"accel\",\"model\",\"origin\",\"carname\")\n",
    "data = data.dropna(axis=0)\n",
    "print(data[:5])"
   ]
  },
  {
   "cell_type": "markdown",
   "metadata": {},
   "source": [
    "2016 average fuel economy is 24.7 mpg\n",
    "https://www.reuters.com/article/us-autos-emissions/u-s-vehicle-fuel-economy-rises-to-record-24-7-mpg-epa-idUSKBN1F02BX\n",
    "downloaded 14 Dec 2018"
   ]
  },
  {
   "cell_type": "code",
   "execution_count": 3,
   "metadata": {},
   "outputs": [],
   "source": [
    "mpg2016=24.7"
   ]
  },
  {
   "cell_type": "code",
   "execution_count": 4,
   "metadata": {},
   "outputs": [],
   "source": [
    "weight=data[\"weight\"]\n",
    "mpg=data[\"mpg\"]"
   ]
  },
  {
   "cell_type": "code",
   "execution_count": 5,
   "metadata": {},
   "outputs": [],
   "source": [
    "from sklearn.linear_model import LogisticRegression as LR\n",
    "from sklearn.metrics import confusion_matrix, roc_curve"
   ]
  },
  {
   "cell_type": "markdown",
   "metadata": {},
   "source": [
    "## Repeat with a train-test split"
   ]
  },
  {
   "cell_type": "code",
   "execution_count": 6,
   "metadata": {},
   "outputs": [],
   "source": [
    "import random\n",
    "random.seed(99)\n",
    "def train_test_split(x,y,f=.75):\n",
    "    # Force between 10 and 90 percent training data\n",
    "    f=max(.1, min(f,.9))\n",
    "    # shuffle the indices of the original data\n",
    "    n=len(x)\n",
    "    ntrain=round(f*n)\n",
    "    indices=list(range(n))\n",
    "    random.shuffle(indices)\n",
    "    ind_train=indices[:ntrain]\n",
    "    ind_test=indices[ntrain:]\n",
    "    XTRAIN=x[ind_train]; YTRAIN=y[ind_train]\n",
    "    XTEST=x[ind_test]; YTEST=y[ind_test]\n",
    "    return(XTRAIN,YTRAIN,XTEST,YTEST)\n"
   ]
  },
  {
   "cell_type": "code",
   "execution_count": 7,
   "metadata": {},
   "outputs": [],
   "source": [
    "X=np.array(weight)\n",
    "Y=np.array([1 if z<mpg2016 else 0 for z in mpg])\n",
    "XTRAIN,YTRAIN, XTEST, YTEST=train_test_split(X,Y,f=.5)\n",
    "XTRAIN=XTRAIN.reshape(-1,1)\n",
    "XTEST=XTEST.reshape(-1,1)"
   ]
  },
  {
   "cell_type": "code",
   "execution_count": 8,
   "metadata": {},
   "outputs": [],
   "source": [
    "from sklearn.linear_model import LogisticRegression as LR\n",
    "from sklearn.metrics import confusion_matrix\n",
    "from sklearn.metrics import roc_curve"
   ]
  },
  {
   "cell_type": "code",
   "execution_count": 9,
   "metadata": {},
   "outputs": [
    {
     "name": "stdout",
     "output_type": "stream",
     "text": [
      "a (intercept)= -4.363563244788132\n",
      "b (slope)= 0.0016811952663158473\n",
      "x0 (50% point)= 2595.512450109615\n"
     ]
    }
   ],
   "source": [
    "r=LR().fit(XTRAIN,YTRAIN)\n",
    "b=r.coef_[0,0]\n",
    "a=r.intercept_[0]\n",
    "x0=-a/b\n",
    "print(\"a (intercept)=\",a)\n",
    "print(\"b (slope)=\",b)\n",
    "print(\"x0 (50% point)=\",x0)"
   ]
  },
  {
   "cell_type": "code",
   "execution_count": 10,
   "metadata": {},
   "outputs": [
    {
     "data": {
      "text/plain": [
       "array([[66, 16],\n",
       "       [17, 97]])"
      ]
     },
     "execution_count": 10,
     "metadata": {},
     "output_type": "execute_result"
    }
   ],
   "source": [
    "YP=r.predict(XTEST)\n",
    "confusion_matrix(YTEST,YP)"
   ]
  },
  {
   "cell_type": "code",
   "execution_count": 11,
   "metadata": {},
   "outputs": [
    {
     "data": {
      "image/png": "[encoded data removed]",
      "text/plain": [
       "<Figure size 432x432 with 1 Axes>"
      ]
     },
     "metadata": {
      "needs_background": "light"
     },
     "output_type": "display_data"
    }
   ],
   "source": [
    "probs=r.predict_proba(XTEST)[:,1]\n",
    "fpr, tpr, threshold = roc_curve(YTEST,probs)\n",
    "plt.plot(fpr,tpr, c=\"k\")\n",
    "plt.plot([0,1],[0,1],c=\"k\",ls=\"--\")\n",
    "\n",
    "plt.xlabel(\"False Positive Rate\", fontsize=14)\n",
    "plt.ylabel(\"True Positive Rate\", fontsize=14)\n",
    "plt.grid()\n",
    "fig=plt.gcf()\n",
    "fig.set_size_inches(6,6)\n",
    "fig.savefig(\"ROC-curve-gas-guzzler-logistic.pdf\")"
   ]
  },
  {
   "cell_type": "code",
   "execution_count": 12,
   "metadata": {},
   "outputs": [],
   "source": [
    "def ROC(Y,Prob):\n",
    "    if (len(Y)!=len(Prob)):\n",
    "        print(\"Length mismatch\")\n",
    "        return([])\n",
    "    P=sum(Y)\n",
    "    N=len(Y)-P\n",
    "\n",
    "    if (P<1) or (N<1):\n",
    "        print(\"There must be both postive and negative examples\")\n",
    "        return([])\n",
    "    YP=list(zip(Y,Prob))\n",
    "    YP.sort(reverse=True, key=lambda a:a[-1])\n",
    "    Lsorted,f=zip(*YP)\n",
    "    FP=0; TP=0\n",
    "    R=[]\n",
    "    fprev=float(\"-inf\")\n",
    "    i=0\n",
    "    \n",
    "    while i < len(Lsorted):\n",
    "        if f[i]!= fprev:\n",
    "            R.append([FP/N, TP/P])\n",
    "            #print(FP/N, TP/P, YP[i][1])\n",
    "            fprev=f[i]\n",
    "        if Lsorted[i]>0:\n",
    "            TP+=1\n",
    "        else:\n",
    "            FP+=1\n",
    "        i+=1\n",
    "     \n",
    "    R.append([FP/N, TP/P])\n",
    "    return(R)\n",
    "FPR,TPR=zip(*ROC(YTEST,probs))"
   ]
  },
  {
   "cell_type": "code",
   "execution_count": 13,
   "metadata": {},
   "outputs": [
    {
     "data": {
      "image/png": "[encoded data removed]",
      "text/plain": [
       "<Figure size 432x432 with 1 Axes>"
      ]
     },
     "metadata": {
      "needs_background": "light"
     },
     "output_type": "display_data"
    }
   ],
   "source": [
    "plt.plot(FPR,TPR,c=\"k\")\n",
    "plt.grid()\n",
    "plt.plot([0,1],[0,1],c=\"k\",ls=\"--\")\n",
    "plt.xlabel(\"False Positive Rate\",fontsize=14)\n",
    "plt.ylabel(\"True Positive Rate\",fontsize=14)\n",
    "fig=plt.gcf()\n",
    "fig.set_size_inches(6,6)\n",
    "fig.tight_layout()\n",
    "fig.savefig(\"ROC-CURVE-GAS-GUZZLER-LOGISTIC-REGRESSION-MODEL.pdf\")\n"
   ]
  },
  {
   "cell_type": "code",
   "execution_count": 14,
   "metadata": {},
   "outputs": [
    {
     "data": {
      "text/plain": [
       "array([[66, 16],\n",
       "       [17, 97]])"
      ]
     },
     "execution_count": 14,
     "metadata": {},
     "output_type": "execute_result"
    }
   ],
   "source": [
    "def ConfMat(OBS,PRED):\n",
    "    OPS=list(zip(OBS,PRED))\n",
    "    TP = sum([(O==1) and (P==1) for O,P in OPS])\n",
    "    TN = sum([(O==0) and (P==0) for O,P in OPS])\n",
    "    FP = sum([(P==1) and (O==0) for O,P in OPS])\n",
    "    FN = sum([(P==0) and (O==1) for O,P in OPS])   \n",
    "    M = np.array([[TN,FP],[FN,TP]])\n",
    "    return M\n",
    "ConfMat(YTEST,YP)"
   ]
  },
  {
   "cell_type": "code",
   "execution_count": 15,
   "metadata": {},
   "outputs": [
    {
     "data": {
      "text/plain": [
       "0.8508771929824561"
      ]
     },
     "execution_count": 15,
     "metadata": {},
     "output_type": "execute_result"
    }
   ],
   "source": [
    "97/(97+17)"
   ]
  },
  {
   "cell_type": "code",
   "execution_count": 16,
   "metadata": {},
   "outputs": [
    {
     "data": {
      "text/plain": [
       "(113, 114)"
      ]
     },
     "execution_count": 16,
     "metadata": {},
     "output_type": "execute_result"
    }
   ],
   "source": [
    "sum(YP), 97+17"
   ]
  },
  {
   "cell_type": "code",
   "execution_count": 17,
   "metadata": {},
   "outputs": [
    {
     "data": {
      "text/plain": [
       "array([[66, 16],\n",
       "       [17, 97]])"
      ]
     },
     "execution_count": 17,
     "metadata": {},
     "output_type": "execute_result"
    }
   ],
   "source": [
    "confusion_matrix(YTEST,YP)"
   ]
  },
  {
   "cell_type": "code",
   "execution_count": 18,
   "metadata": {},
   "outputs": [],
   "source": [
    "from sklearn import metrics as SM"
   ]
  },
  {
   "cell_type": "code",
   "execution_count": 19,
   "metadata": {},
   "outputs": [
    {
     "data": {
      "text/plain": [
       "array([[66, 16],\n",
       "       [17, 97]])"
      ]
     },
     "execution_count": 19,
     "metadata": {},
     "output_type": "execute_result"
    }
   ],
   "source": [
    "SM.confusion_matrix(YTEST,YP)"
   ]
  },
  {
   "cell_type": "code",
   "execution_count": 20,
   "metadata": {},
   "outputs": [
    {
     "name": "stdout",
     "output_type": "stream",
     "text": [
      "TPR =          0.851\n",
      "TNR =          0.805\n",
      "Specificity =  0.805\n",
      "Accuracy =     0.832\n",
      "Precision =    0.858\n",
      "F =            0.855\n"
     ]
    }
   ],
   "source": [
    "def Metrics(OBS,PRED):\n",
    "    OPS=list(zip(OBS,PRED))\n",
    "    TP = sum([(O==1) and (P==1) for O,P in OPS])\n",
    "    TN = sum([(O==0) and (P==0) for O,P in OPS])\n",
    "    FP = sum([(P==1) and (O==0) for O,P in OPS])\n",
    "    FN = sum([(P==0) and (O==1) for O,P in OPS])   \n",
    "    P = sum(OBS)\n",
    "    N = len(OBS)-P\n",
    "    TPR = TP/P\n",
    "    TNR = TN/N\n",
    "    Specificity = TN/(FP+TN)\n",
    "    Accuracy = (TP+TN)/(P+N)\n",
    "    Precision = TP/(TP+FP)\n",
    "    F=2/(1/Precision+1/TPR)\n",
    "    return(TPR, TNR, Specificity, Accuracy, Precision,F)\n",
    "TPR,TNR,Spec,Acc,Prec,F=Metrics(YTEST,YP)\n",
    "print(\"TPR =         \",round(TPR,3))\n",
    "print(\"TNR =         \",round(TNR,3))\n",
    "print(\"Specificity = \",round(Spec,3))\n",
    "print(\"Accuracy =    \",round(Acc,3))\n",
    "print(\"Precision =   \",round(Prec,3))\n",
    "print(\"F =           \",round(F,3))"
   ]
  },
  {
   "cell_type": "code",
   "execution_count": 21,
   "metadata": {},
   "outputs": [],
   "source": [
    "from sklearn.metrics import recall_score, precision_score, roc_auc_score, accuracy_score"
   ]
  },
  {
   "cell_type": "code",
   "execution_count": 22,
   "metadata": {},
   "outputs": [
    {
     "data": {
      "text/plain": [
       "0.8316326530612245"
      ]
     },
     "execution_count": 22,
     "metadata": {},
     "output_type": "execute_result"
    }
   ],
   "source": [
    "accuracy_score(YTEST,YP)"
   ]
  },
  {
   "cell_type": "code",
   "execution_count": 23,
   "metadata": {},
   "outputs": [
    {
     "data": {
      "text/plain": [
       "0.8508771929824561"
      ]
     },
     "execution_count": 23,
     "metadata": {},
     "output_type": "execute_result"
    }
   ],
   "source": [
    "recall_score(YTEST,YP) # recall is same as TPR"
   ]
  },
  {
   "cell_type": "code",
   "execution_count": 24,
   "metadata": {},
   "outputs": [
    {
     "data": {
      "text/plain": [
       "0.8584070796460177"
      ]
     },
     "execution_count": 24,
     "metadata": {},
     "output_type": "execute_result"
    }
   ],
   "source": [
    "precision_score(YTEST,YP)"
   ]
  },
  {
   "cell_type": "code",
   "execution_count": 25,
   "metadata": {},
   "outputs": [
    {
     "data": {
      "text/plain": [
       "0.8546255506607929"
      ]
     },
     "execution_count": 25,
     "metadata": {},
     "output_type": "execute_result"
    }
   ],
   "source": [
    "from sklearn.metrics import f1_score\n",
    "f1_score(YTEST,YP)"
   ]
  },
  {
   "cell_type": "code",
   "execution_count": 26,
   "metadata": {
    "scrolled": true
   },
   "outputs": [
    {
     "data": {
      "text/plain": [
       "0.9309477963200685"
      ]
     },
     "execution_count": 26,
     "metadata": {},
     "output_type": "execute_result"
    }
   ],
   "source": [
    "roc_auc_score(YTEST,probs)"
   ]
  },
  {
   "cell_type": "code",
   "execution_count": 27,
   "metadata": {},
   "outputs": [],
   "source": [
    "FPR,TPR=zip(*ROC(YTEST,probs))"
   ]
  },
  {
   "cell_type": "code",
   "execution_count": 28,
   "metadata": {},
   "outputs": [
    {
     "name": "stdout",
     "output_type": "stream",
     "text": [
      "0.9307873341891315\n"
     ]
    },
    {
     "data": {
      "text/plain": [
       "0.9309477963200686"
      ]
     },
     "execution_count": 28,
     "metadata": {},
     "output_type": "execute_result"
    }
   ],
   "source": [
    "def TRAP(xvals, yvals):\n",
    "    XLEFT = xvals[:-1]; XRIGHT= xvals[1:]\n",
    "    YLEFT = yvals[:-1]; YRIGHT= yvals[1:]\n",
    "    DX = XRIGHT-XLEFT\n",
    "    print(sum(YLEFT*DX))\n",
    "    return(sum(0.5*(YLEFT+YRIGHT)*DX))\n",
    "TRAP(np.array(FPR), np.array(TPR))"
   ]
  },
  {
   "cell_type": "code",
   "execution_count": 29,
   "metadata": {},
   "outputs": [],
   "source": [
    "from sklearn.metrics import auc"
   ]
  },
  {
   "cell_type": "code",
   "execution_count": 30,
   "metadata": {},
   "outputs": [
    {
     "data": {
      "text/plain": [
       "0.9309477963200685"
      ]
     },
     "execution_count": 30,
     "metadata": {},
     "output_type": "execute_result"
    }
   ],
   "source": [
    "auc(FPR,TPR)"
   ]
  },
  {
   "cell_type": "code",
   "execution_count": null,
   "metadata": {},
   "outputs": [],
   "source": []
  }
 ],
 "metadata": {
  "kernelspec": {
   "display_name": "Python 3",
   "language": "python",
   "name": "python3"
  },
  "language_info": {
   "codemirror_mode": {
    "name": "ipython",
    "version": 3
   },
   "file_extension": ".py",
   "mimetype": "text/x-python",
   "name": "python",
   "nbconvert_exporter": "python",
   "pygments_lexer": "ipython3",
   "version": "3.6.7"
  }
 },
 "nbformat": 4,
 "nbformat_minor": 2
}
