{
 "cells": [
  {
   "cell_type": "markdown",
   "metadata": {},
   "source": [
    "# Getting Started in Machine Learning\n",
    "### Chapter 11: Evaluating Binary Classifiers\n",
    "\n",
    "This notebook contains examples from the book:\n",
    "\n",
    "Getting Started in Machine Learning: Easy Recipes for Python 3, Scikit-Learn, Jupyter (2019) by Bella Romeo, Sherwood Forest Books, Los Angeles, CA, USA, ISBN-13: 978-0-9966860-6-8\n",
    "\n",
    "(c) Copyright 2019."
   ]
  },
  {
   "cell_type": "markdown",
   "metadata": {},
   "source": [
    "<font style=\"font-size:xx-small; font-family:courier;\">\n",
    "\n",
    "    This notebook is free software: you can redistribute it and/or modify\n",
    "    it under the terms of the GNU General Public License as published by\n",
    "    the Free Software Foundation, either version 3 of the License, or\n",
    "    (at your option) any later version.\n",
    "\n",
    "    This program is distributed in the hope that it will be useful,\n",
    "    but WITHOUT ANY WARRANTY; without even the implied warranty of\n",
    "    MERCHANTABILITY or FITNESS FOR A PARTICULAR PURPOSE.  See the\n",
    "    GNU General Public License for more details.\n",
    "\n",
    "    You should have received a copy of the GNU General Public License\n",
    "    along with this program. If not, see <https://www.gnu.org/licenses/>."
   ]
  },
  {
   "cell_type": "code",
   "execution_count": 1,
   "metadata": {},
   "outputs": [],
   "source": [
    "import numpy as np\n",
    "import pandas as pd\n",
    "import matplotlib.pyplot as plt\n",
    "%matplotlib inline"
   ]
  },
  {
   "cell_type": "markdown",
   "metadata": {},
   "source": [
    "## load mpg file "
   ]
  },
  {
   "cell_type": "code",
   "execution_count": 2,
   "metadata": {},
   "outputs": [
    {
     "name": "stdout",
     "output_type": "stream",
     "text": [
      "    mpg  cyl  displ     hp  weight  accel  model  origin  \\\n",
      "0  18.0    8  307.0  130.0  3504.0   12.0     70       1   \n",
      "1  15.0    8  350.0  165.0  3693.0   11.5     70       1   \n",
      "2  18.0    8  318.0  150.0  3436.0   11.0     70       1   \n",
      "3  16.0    8  304.0  150.0  3433.0   12.0     70       1   \n",
      "4  17.0    8  302.0  140.0  3449.0   10.5     70       1   \n",
      "\n",
      "                       carname  \n",
      "0  \"chevrolet chevelle malibu\"  \n",
      "1          \"buick skylark 320\"  \n",
      "2         \"plymouth satellite\"  \n",
      "3              \"amc rebel sst\"  \n",
      "4                \"ford torino\"  \n"
     ]
    }
   ],
   "source": [
    "data=pd.read_fwf(\"https://archive.ics.uci.edu/ml/machine-learning-databases/auto-mpg/auto-mpg.data\",\n",
    "                 header=None,na_values=\"?\")\n",
    "data.columns=(\"mpg\",\"cyl\",\"displ\",\"hp\",\"weight\",\"accel\",\"model\",\"origin\",\"carname\")\n",
    "data = data.dropna(axis=0)\n",
    "print(data[:5])"
   ]
  },
  {
   "cell_type": "markdown",
   "metadata": {},
   "source": [
    "2016 average fuel economy is 24.7 mpg\n",
    "https://www.reuters.com/article/us-autos-emissions/u-s-vehicle-fuel-economy-rises-to-record-24-7-mpg-epa-idUSKBN1F02BX\n",
    "downloaded 14 Dec 2018"
   ]
  },
  {
   "cell_type": "markdown",
   "metadata": {},
   "source": [
    "## redo single variable logistic regression vs weight"
   ]
  },
  {
   "cell_type": "code",
   "execution_count": 3,
   "metadata": {},
   "outputs": [],
   "source": [
    "mpg2016=24.7"
   ]
  },
  {
   "cell_type": "code",
   "execution_count": 4,
   "metadata": {},
   "outputs": [],
   "source": [
    "weight=data[\"weight\"]\n",
    "mpg=data[\"mpg\"]\n",
    "\n",
    "X=np.array(weight).reshape(-1,1)\n",
    "Y=np.array([1 if z<mpg2016 else 0 for z in mpg])"
   ]
  },
  {
   "cell_type": "code",
   "execution_count": 5,
   "metadata": {},
   "outputs": [],
   "source": [
    "from sklearn.linear_model import LogisticRegression as LR\n",
    "from sklearn.metrics import confusion_matrix, roc_curve\n",
    "from sklearn.model_selection import train_test_split"
   ]
  },
  {
   "cell_type": "code",
   "execution_count": 6,
   "metadata": {},
   "outputs": [],
   "source": [
    "XTRAIN,XTEST, YTRAIN, YTEST=train_test_split(X,Y)"
   ]
  },
  {
   "cell_type": "code",
   "execution_count": 7,
   "metadata": {},
   "outputs": [
    {
     "name": "stdout",
     "output_type": "stream",
     "text": [
      "a (intercept)= -4.7554954330924835\n",
      "b (slope)= 0.0018216151635915504\n",
      "x0 (50% point)= 2610.592801454511\n"
     ]
    }
   ],
   "source": [
    "r=LR().fit(XTRAIN,YTRAIN)\n",
    "b=r.coef_[0,0]\n",
    "a=r.intercept_[0]\n",
    "x0=-a/b\n",
    "print(\"a (intercept)=\",a)\n",
    "print(\"b (slope)=\",b)\n",
    "print(\"x0 (50% point)=\",x0)"
   ]
  },
  {
   "cell_type": "markdown",
   "metadata": {},
   "source": [
    "## make a prediction on the test set and evaluate confusion matrix"
   ]
  },
  {
   "cell_type": "code",
   "execution_count": 8,
   "metadata": {},
   "outputs": [
    {
     "data": {
      "text/plain": [
       "array([[31, 10],\n",
       "       [13, 44]])"
      ]
     },
     "execution_count": 8,
     "metadata": {},
     "output_type": "execute_result"
    }
   ],
   "source": [
    "YP=r.predict(XTEST)\n",
    "confusion_matrix(YTEST,YP)"
   ]
  },
  {
   "cell_type": "markdown",
   "metadata": {},
   "source": [
    "## calculate probabilities\n",
    "\n",
    "### plot ROC curve"
   ]
  },
  {
   "cell_type": "code",
   "execution_count": 9,
   "metadata": {},
   "outputs": [
    {
     "data": {
      "image/png": "[encoded data removed]",
      "text/plain": [
       "<Figure size 432x432 with 1 Axes>"
      ]
     },
     "metadata": {
      "needs_background": "light"
     },
     "output_type": "display_data"
    }
   ],
   "source": [
    "probs=r.predict_proba(XTEST)[:,1]\n",
    "fpr, tpr, threshold = roc_curve(YTEST,probs)\n",
    "plt.plot(fpr,tpr, c=\"blue\")\n",
    "plt.plot([0,1],[0,1],c=\"green\",ls=\"--\")\n",
    "\n",
    "plt.xlabel(\"False Positive Rate\", fontsize=14)\n",
    "plt.ylabel(\"True Positive Rate\", fontsize=14)\n",
    "plt.grid()\n",
    "fig=plt.gcf()\n",
    "fig.set_size_inches(6,6)\n",
    "#fig.savefig(\"ROC-curve-gas-guzzler-logistic.pdf\")"
   ]
  },
  {
   "cell_type": "markdown",
   "metadata": {},
   "source": [
    "# Implement ROC Curve from scratch"
   ]
  },
  {
   "cell_type": "code",
   "execution_count": 10,
   "metadata": {},
   "outputs": [],
   "source": [
    "def ROC(Y,Prob):\n",
    "    if (len(Y)!=len(Prob)):\n",
    "        print(\"Length mismatch\")\n",
    "        return([])\n",
    "    \n",
    "    P=sum(Y); N=len(Y)-P\n",
    "\n",
    "    if (P<1) or (N<1):\n",
    "        print(\"There must be both postive and negative examples\")\n",
    "        return([])\n",
    "    \n",
    "    py_pairs = sorted(zip(Prob, Y), reverse=True)\n",
    "\n",
    "    FP=0; TP=0\n",
    "    ROC_CURVE=[]\n",
    "    pprev=float(\"-inf\")\n",
    "    \n",
    "    for p,y in py_pairs:\n",
    "        if p != pprev:\n",
    "            ROC_CURVE.append([FP/N, TP/P])\n",
    "            pprev=p\n",
    "        if y>0:\n",
    "            TP+=1\n",
    "        else:\n",
    "            FP+=1\n",
    "     \n",
    "    ROC_CURVE.append([FP/N, TP/P])\n",
    "    return(ROC_CURVE)"
   ]
  },
  {
   "cell_type": "code",
   "execution_count": 11,
   "metadata": {},
   "outputs": [],
   "source": [
    "## demonstrate our own ROC curve"
   ]
  },
  {
   "cell_type": "code",
   "execution_count": 22,
   "metadata": {},
   "outputs": [
    {
     "data": {
      "image/png": "[encoded data removed]",
      "text/plain": [
       "<Figure size 432x432 with 1 Axes>"
      ]
     },
     "metadata": {
      "needs_background": "light"
     },
     "output_type": "display_data"
    }
   ],
   "source": [
    "FPR,TPR=zip(*ROC(YTEST,probs))\n",
    "plt.plot(FPR,TPR,c=\"blue\")\n",
    "plt.grid()\n",
    "plt.plot([0,1],[0,1],c=\"green\",ls=\"--\")\n",
    "plt.xlabel(\"False Positive Rate\",fontsize=14)\n",
    "plt.ylabel(\"True Positive Rate\",fontsize=14)\n",
    "fig=plt.gcf()\n",
    "fig.set_size_inches(6,6)\n",
    "fig.tight_layout()\n",
    "#fig.savefig(\"ROC-CURVE-GAS-GUZZLER-LOGISTIC-REGRESSION-MODEL.pdf\")\n"
   ]
  },
  {
   "cell_type": "markdown",
   "metadata": {},
   "source": [
    "## demonstrate how to implement confusion matrix from scratch"
   ]
  },
  {
   "cell_type": "code",
   "execution_count": 13,
   "metadata": {},
   "outputs": [
    {
     "data": {
      "text/plain": [
       "array([[31, 10],\n",
       "       [13, 44]])"
      ]
     },
     "execution_count": 13,
     "metadata": {},
     "output_type": "execute_result"
    }
   ],
   "source": [
    "def ConfMat(OBS,PRED):\n",
    "    OPS=list(zip(OBS,PRED))\n",
    "    TP = sum([(O==1) and (P==1) for O,P in OPS])\n",
    "    TN = sum([(O==0) and (P==0) for O,P in OPS])\n",
    "    FP = sum([(P==1) and (O==0) for O,P in OPS])\n",
    "    FN = sum([(P==0) and (O==1) for O,P in OPS])   \n",
    "    M = np.array([[TN,FP],[FN,TP]])\n",
    "    return M\n",
    "ConfMat(YTEST,YP)"
   ]
  },
  {
   "cell_type": "code",
   "execution_count": 14,
   "metadata": {},
   "outputs": [
    {
     "data": {
      "text/plain": [
       "array([[31, 10],\n",
       "       [13, 44]])"
      ]
     },
     "execution_count": 14,
     "metadata": {},
     "output_type": "execute_result"
    }
   ],
   "source": [
    "confusion_matrix(YTEST,YP) # this is sklearn confusion matrix"
   ]
  },
  {
   "cell_type": "markdown",
   "metadata": {},
   "source": [
    "# demonstrate how to calculate various metrics from scratch and compare to sklearn implementations"
   ]
  },
  {
   "cell_type": "code",
   "execution_count": 15,
   "metadata": {},
   "outputs": [
    {
     "name": "stdout",
     "output_type": "stream",
     "text": [
      "TPR =          0.772 sklearn recall_score= 0.772\n",
      "TNR =          0.756\n",
      "Specificity =  0.756\n",
      "Accuracy =     0.765 sklearn accuracy_score= 0.765\n",
      "Precision =    0.815 sklearn precision_score= 0.815\n",
      "F =            0.793 sklearn f1_score= 0.793\n"
     ]
    }
   ],
   "source": [
    "from sklearn.metrics import recall_score, precision_score, \\\n",
    " f1_score,roc_auc_score, accuracy_score,precision_recall_fscore_support\n",
    "\n",
    "def Metrics(OBS,PRED):\n",
    "    OPS=list(zip(OBS,PRED))\n",
    "    TP = sum([(O==1) and (P==1) for O,P in OPS])\n",
    "    TN = sum([(O==0) and (P==0) for O,P in OPS])\n",
    "    FP = sum([(P==1) and (O==0) for O,P in OPS])\n",
    "    FN = sum([(P==0) and (O==1) for O,P in OPS])   \n",
    "    P = sum(OBS)\n",
    "    N = len(OBS)-P\n",
    "    TPR = TP/P\n",
    "    TNR = TN/N\n",
    "    Specificity = TN/(FP+TN)\n",
    "    Accuracy = (TP+TN)/(P+N)\n",
    "    Precision = TP/(TP+FP)\n",
    "    F=2/(1/Precision+1/TPR)\n",
    "    return(TPR, TNR, Specificity, Accuracy, Precision,F)\n",
    "TPR,TNR,Spec,Acc,Prec,F=Metrics(YTEST,YP)\n",
    "print(\"TPR =         \",round(TPR,3),\"sklearn recall_score=\",\n",
    "     round(recall_score(YTEST,YP),3))\n",
    "print(\"TNR =         \",round(TNR,3))\n",
    "print(\"Specificity = \",round(Spec,3))\n",
    "print(\"Accuracy =    \",round(Acc,3),\"sklearn accuracy_score=\",\n",
    "      round(accuracy_score(YTEST,YP),3))\n",
    "print(\"Precision =   \",round(Prec,3),\"sklearn precision_score=\",\n",
    "     round(precision_score(YTEST,YP),3))\n",
    "print(\"F =           \",round(F,3),\"sklearn f1_score=\",\n",
    "     round(f1_score(YTEST,YP),3))"
   ]
  },
  {
   "cell_type": "markdown",
   "metadata": {},
   "source": [
    "## calculate area under the ROC curve\n",
    "\n",
    "#### and compare with SKLEARN version"
   ]
  },
  {
   "cell_type": "code",
   "execution_count": 16,
   "metadata": {
    "scrolled": true
   },
   "outputs": [
    {
     "data": {
      "text/plain": [
       "0.8960205391527598"
      ]
     },
     "execution_count": 16,
     "metadata": {},
     "output_type": "execute_result"
    }
   ],
   "source": [
    "roc_auc_score(YTEST,probs)"
   ]
  },
  {
   "cell_type": "code",
   "execution_count": 17,
   "metadata": {},
   "outputs": [],
   "source": [
    "FPR,TPR=zip(*ROC(YTEST,probs))"
   ]
  },
  {
   "cell_type": "code",
   "execution_count": 18,
   "metadata": {},
   "outputs": [
    {
     "name": "stdout",
     "output_type": "stream",
     "text": [
      "0.8960205391527599\n"
     ]
    },
    {
     "data": {
      "text/plain": [
       "0.8960205391527599"
      ]
     },
     "execution_count": 18,
     "metadata": {},
     "output_type": "execute_result"
    }
   ],
   "source": [
    "def TRAP(xvals, yvals):\n",
    "    XLEFT = xvals[:-1]; XRIGHT= xvals[1:]\n",
    "    YLEFT = yvals[:-1]; YRIGHT= yvals[1:]\n",
    "    DX = XRIGHT-XLEFT\n",
    "    print(sum(YLEFT*DX))\n",
    "    return(sum(0.5*(YLEFT+YRIGHT)*DX))\n",
    "TRAP(np.array(FPR), np.array(TPR))"
   ]
  },
  {
   "cell_type": "code",
   "execution_count": 19,
   "metadata": {},
   "outputs": [],
   "source": [
    "from sklearn.metrics import auc"
   ]
  },
  {
   "cell_type": "code",
   "execution_count": 20,
   "metadata": {},
   "outputs": [
    {
     "data": {
      "text/plain": [
       "0.89602053915276"
      ]
     },
     "execution_count": 20,
     "metadata": {},
     "output_type": "execute_result"
    }
   ],
   "source": [
    "auc(FPR,TPR)"
   ]
  },
  {
   "cell_type": "markdown",
   "metadata": {},
   "source": [
    "# demonstrate ROC operation"
   ]
  },
  {
   "cell_type": "code",
   "execution_count": 21,
   "metadata": {},
   "outputs": [
    {
     "name": "stdout",
     "output_type": "stream",
     "text": [
      "    p Y FP TP   FPR   TPR\n",
      "----- - -- -- ----- -----\n",
      "0.990 1  0  1 0.000 0.018\n",
      "0.986 1  0  2 0.000 0.035\n",
      "0.977 1  0  3 0.000 0.053\n",
      "0.961 1  0  4 0.000 0.070\n",
      "0.960 1  0  5 0.000 0.088\n",
      "0.954 1  0  6 0.000 0.105\n",
      "0.947 1  0  7 0.000 0.123\n",
      "0.942 1  0  8 0.000 0.140\n",
      "0.936 1  0  9 0.000 0.158\n",
      "0.925 1  0 10 0.000 0.175\n",
      "0.912 1  0 11 0.000 0.193\n",
      "0.912 1  0 12 0.000 0.211\n",
      "0.910 1  0 13 0.000 0.228\n",
      "0.902 1  0 14 0.000 0.246\n",
      "0.901 1  0 15 0.000 0.263\n",
      "0.895 1  0 16 0.000 0.281\n",
      "0.872 1  0 17 0.000 0.298\n",
      "0.869 1  0 18 0.000 0.316\n",
      "0.865 1  0 19 0.000 0.333\n",
      "0.865 1  0 20 0.000 0.351\n",
      "0.861 1  0 21 0.000 0.368\n",
      "0.840 1  0 22 0.000 0.386\n",
      "0.826 1  0 23 0.000 0.404\n",
      "0.821 1  0 24 0.000 0.421\n",
      "0.816 1  0 25 0.000 0.439\n",
      "0.815 1  0 26 0.000 0.456\n",
      "0.812 1  0 27 0.000 0.474\n",
      "0.803 1  0 28 0.000 0.491\n",
      "0.802 1  0 29 0.000 0.509\n",
      "0.787 1  0 30 0.000 0.526\n",
      "0.779 1  0 31 0.000 0.544\n",
      "0.771 1  0 32 0.000 0.561\n",
      "0.767 1  0 33 0.000 0.579\n",
      "0.762 0  1 33 0.024 0.579\n",
      "0.749 1  1 34 0.024 0.596\n",
      "0.734 1  1 35 0.024 0.614\n",
      "0.731 0  2 35 0.049 0.614\n",
      "0.675 1  2 36 0.049 0.632\n",
      "0.664 1  2 37 0.049 0.649\n",
      "0.648 1  2 38 0.049 0.667\n",
      "0.643 1  2 39 0.049 0.684\n",
      "0.633 0  3 39 0.073 0.684\n",
      "0.629 1  3 40 0.073 0.702\n",
      "0.629 0  4 40 0.098 0.702\n",
      "0.616 0  5 40 0.122 0.702\n",
      "0.615 1  5 41 0.122 0.719\n",
      "0.574 1  5 42 0.122 0.737\n",
      "0.561 1  5 43 0.122 0.754\n",
      "0.550 0  6 43 0.146 0.754\n",
      "0.541 0  7 43 0.171 0.754\n",
      "0.525 0  8 43 0.195 0.754\n",
      "0.513 0  9 43 0.220 0.754\n",
      "0.511 0 10 43 0.244 0.754\n",
      "0.511 1 10 44 0.244 0.772\n",
      "0.497 0 11 44 0.268 0.772\n",
      "0.492 1 11 45 0.268 0.789\n",
      "0.489 1 11 46 0.268 0.807\n",
      "0.477 0 12 46 0.293 0.807\n",
      "0.469 0 13 46 0.317 0.807\n",
      "0.457 1 13 47 0.317 0.825\n",
      "0.453 1 13 48 0.317 0.842\n",
      "0.409 1 13 49 0.317 0.860\n",
      "0.406 1 13 50 0.317 0.877\n",
      "0.399 0 14 50 0.341 0.877\n",
      "0.394 0 15 50 0.366 0.877\n",
      "0.393 1 15 51 0.366 0.895\n",
      "0.377 0 16 51 0.390 0.895\n",
      "0.366 1 16 52 0.390 0.912\n",
      "0.343 1 16 53 0.390 0.930\n",
      "0.335 0 17 53 0.415 0.930\n",
      "0.332 1 17 54 0.415 0.947\n",
      "0.330 0 18 54 0.439 0.947\n",
      "0.329 1 18 55 0.439 0.965\n",
      "0.327 0 19 55 0.463 0.965\n",
      "0.322 0 20 55 0.488 0.965\n",
      "0.321 0 21 55 0.512 0.965\n",
      "0.317 0 22 55 0.537 0.965\n",
      "0.317 0 23 55 0.561 0.965\n",
      "0.305 1 23 56 0.561 0.982\n",
      "0.294 0 24 56 0.585 0.982\n",
      "0.294 0 25 56 0.610 0.982\n",
      "0.290 0 26 56 0.634 0.982\n",
      "0.286 1 26 57 0.634 1.000\n",
      "0.274 0 27 57 0.659 1.000\n",
      "0.263 0 28 57 0.683 1.000\n",
      "0.247 0 29 57 0.707 1.000\n",
      "0.244 0 30 57 0.732 1.000\n",
      "0.242 0 31 57 0.756 1.000\n",
      "0.236 0 32 57 0.780 1.000\n",
      "0.233 0 33 57 0.805 1.000\n",
      "0.231 0 34 57 0.829 1.000\n",
      "0.227 0 35 57 0.854 1.000\n",
      "0.200 0 36 57 0.878 1.000\n",
      "0.196 0 37 57 0.902 1.000\n",
      "0.186 0 38 57 0.927 1.000\n",
      "0.186 0 39 57 0.951 1.000\n",
      "0.185 0 40 57 0.976 1.000\n",
      "0.175 0 41 57 1.000 1.000\n"
     ]
    }
   ],
   "source": [
    "def ROCDEMO(Y,Prob):\n",
    "    if (len(Y)!=len(Prob)):\n",
    "        print(\"Length mismatch\")\n",
    "        return([])\n",
    "    \n",
    "    P=sum(Y)\n",
    "    N=len(Y)-P\n",
    "\n",
    "    if (P<1) or (N<1):\n",
    "        print(\"There must be both postive and negative examples\")\n",
    "        return([])\n",
    "    \n",
    "    py_pairs = sorted(zip(Prob, Y), reverse=True)\n",
    "\n",
    "    FP=0; TP=0\n",
    "    ROC_CURVE=[]\n",
    "    pprev=float(\"-inf\")\n",
    "    \n",
    "    print(\"    p Y FP TP   FPR   TPR\")  \n",
    "    print(\"----- - -- -- ----- -----\")\n",
    "    for p,y in py_pairs:\n",
    "        if p != pprev:\n",
    "            ROC_CURVE.append([FP/N, TP/P])\n",
    "            pprev=p\n",
    "        if y>0:\n",
    "            TP+=1\n",
    "        else:\n",
    "            FP+=1\n",
    "        print(\"%3.3f %1d %2d %2d %3.3f %3.3f\" %(p,y,FP,TP,FP/N,TP/P))\n",
    "\n",
    "     \n",
    "    ROC_CURVE.append([FP/N, TP/P])\n",
    "    return(ROC_CURVE)\n",
    "\n",
    "FPR,TPR=zip(*ROCDEMO(YTEST, probs))\n",
    "#plt.plot(FPR,TPR)"
   ]
  },
  {
   "cell_type": "code",
   "execution_count": null,
   "metadata": {},
   "outputs": [],
   "source": []
  }
 ],
 "metadata": {
  "kernelspec": {
   "display_name": "Python 3",
   "language": "python",
   "name": "python3"
  },
  "language_info": {
   "codemirror_mode": {
    "name": "ipython",
    "version": 3
   },
   "file_extension": ".py",
   "mimetype": "text/x-python",
   "name": "python",
   "nbconvert_exporter": "python",
   "pygments_lexer": "ipython3",
   "version": "3.6.7"
  }
 },
 "nbformat": 4,
 "nbformat_minor": 2
}
