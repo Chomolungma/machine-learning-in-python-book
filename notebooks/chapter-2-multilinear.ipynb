{
 "cells": [
  {
   "cell_type": "markdown",
   "metadata": {},
   "source": [
    "# multiple linear regression with sklearn"
   ]
  },
  {
   "cell_type": "code",
   "execution_count": 1,
   "metadata": {},
   "outputs": [],
   "source": [
    "#from sklearn.linear_model import LinearRegression\n",
    "#from sklearn.metrics import mean_squared_error, r2_score\n",
    "import numpy as np\n",
    "#import random\n",
    "import pandas as pd\n",
    "\n"
   ]
  },
  {
   "cell_type": "markdown",
   "metadata": {},
   "source": [
    "## Read the Computer Hardware Data Set"
   ]
  },
  {
   "cell_type": "code",
   "execution_count": 2,
   "metadata": {},
   "outputs": [
    {
     "data": {
      "text/html": [
       "<div>\n",
       "<style scoped>\n",
       "    .dataframe tbody tr th:only-of-type {\n",
       "        vertical-align: middle;\n",
       "    }\n",
       "\n",
       "    .dataframe tbody tr th {\n",
       "        vertical-align: top;\n",
       "    }\n",
       "\n",
       "    .dataframe thead th {\n",
       "        text-align: right;\n",
       "    }\n",
       "</style>\n",
       "<table border=\"1\" class=\"dataframe\">\n",
       "  <thead>\n",
       "    <tr style=\"text-align: right;\">\n",
       "      <th></th>\n",
       "      <th>vendor</th>\n",
       "      <th>Model</th>\n",
       "      <th>MYCT</th>\n",
       "      <th>MMIN</th>\n",
       "      <th>MMAX</th>\n",
       "      <th>CACH</th>\n",
       "      <th>CHMIN</th>\n",
       "      <th>CHMAX</th>\n",
       "      <th>PRP</th>\n",
       "      <th>ERP</th>\n",
       "    </tr>\n",
       "  </thead>\n",
       "  <tbody>\n",
       "    <tr>\n",
       "      <th>0</th>\n",
       "      <td>adviser</td>\n",
       "      <td>32/60</td>\n",
       "      <td>125</td>\n",
       "      <td>256</td>\n",
       "      <td>6000</td>\n",
       "      <td>256</td>\n",
       "      <td>16</td>\n",
       "      <td>128</td>\n",
       "      <td>198</td>\n",
       "      <td>199</td>\n",
       "    </tr>\n",
       "    <tr>\n",
       "      <th>1</th>\n",
       "      <td>amdahl</td>\n",
       "      <td>470v/7</td>\n",
       "      <td>29</td>\n",
       "      <td>8000</td>\n",
       "      <td>32000</td>\n",
       "      <td>32</td>\n",
       "      <td>8</td>\n",
       "      <td>32</td>\n",
       "      <td>269</td>\n",
       "      <td>253</td>\n",
       "    </tr>\n",
       "    <tr>\n",
       "      <th>2</th>\n",
       "      <td>amdahl</td>\n",
       "      <td>470v/7a</td>\n",
       "      <td>29</td>\n",
       "      <td>8000</td>\n",
       "      <td>32000</td>\n",
       "      <td>32</td>\n",
       "      <td>8</td>\n",
       "      <td>32</td>\n",
       "      <td>220</td>\n",
       "      <td>253</td>\n",
       "    </tr>\n",
       "    <tr>\n",
       "      <th>3</th>\n",
       "      <td>amdahl</td>\n",
       "      <td>470v/7b</td>\n",
       "      <td>29</td>\n",
       "      <td>8000</td>\n",
       "      <td>32000</td>\n",
       "      <td>32</td>\n",
       "      <td>8</td>\n",
       "      <td>32</td>\n",
       "      <td>172</td>\n",
       "      <td>253</td>\n",
       "    </tr>\n",
       "    <tr>\n",
       "      <th>4</th>\n",
       "      <td>amdahl</td>\n",
       "      <td>470v/7c</td>\n",
       "      <td>29</td>\n",
       "      <td>8000</td>\n",
       "      <td>16000</td>\n",
       "      <td>32</td>\n",
       "      <td>8</td>\n",
       "      <td>16</td>\n",
       "      <td>132</td>\n",
       "      <td>132</td>\n",
       "    </tr>\n",
       "  </tbody>\n",
       "</table>\n",
       "</div>"
      ],
      "text/plain": [
       "    vendor    Model  MYCT  MMIN   MMAX  CACH  CHMIN  CHMAX  PRP  ERP\n",
       "0  adviser    32/60   125   256   6000   256     16    128  198  199\n",
       "1   amdahl   470v/7    29  8000  32000    32      8     32  269  253\n",
       "2   amdahl  470v/7a    29  8000  32000    32      8     32  220  253\n",
       "3   amdahl  470v/7b    29  8000  32000    32      8     32  172  253\n",
       "4   amdahl  470v/7c    29  8000  16000    32      8     16  132  132"
      ]
     },
     "execution_count": 2,
     "metadata": {},
     "output_type": "execute_result"
    }
   ],
   "source": [
    "data = pd.read_csv(\"https://archive.ics.uci.edu/ml/machine-learning-databases/cpu-performance/machine.data\",\n",
    "                  header=None)\n",
    "data.columns=[\"vendor\",\"Model\",\"MYCT\",\"MMIN\", \"MMAX\",\"CACH\",\"CHMIN\",\n",
    "              \"CHMAX\",\"PRP\",\"ERP\"]\n",
    "data[:5]"
   ]
  },
  {
   "cell_type": "markdown",
   "metadata": {},
   "source": [
    "## Extract X and Y data and convert to arays"
   ]
  },
  {
   "cell_type": "code",
   "execution_count": 3,
   "metadata": {},
   "outputs": [
    {
     "name": "stdout",
     "output_type": "stream",
     "text": [
      "209\n"
     ]
    }
   ],
   "source": [
    "X=np.array(data[[\"MYCT\",\"MMIN\",\"MMAX\",\"CACH\",\"CHMIN\",\"CHMAX\"]])\n",
    "Y=np.array(data[\"PRP\"])\n",
    "ndata=len(X)\n",
    "print(ndata)"
   ]
  },
  {
   "cell_type": "code",
   "execution_count": 4,
   "metadata": {},
   "outputs": [
    {
     "data": {
      "text/plain": [
       "array([[  125,   256,  6000,   256,    16,   128],\n",
       "       [   29,  8000, 32000,    32,     8,    32],\n",
       "       [   29,  8000, 32000,    32,     8,    32]])"
      ]
     },
     "execution_count": 4,
     "metadata": {},
     "output_type": "execute_result"
    }
   ],
   "source": [
    "X[:3]"
   ]
  },
  {
   "cell_type": "markdown",
   "metadata": {},
   "source": [
    "## divide into test and training sets"
   ]
  },
  {
   "cell_type": "code",
   "execution_count": 5,
   "metadata": {},
   "outputs": [],
   "source": [
    "import random\n",
    "indices=list(range(ndata))\n",
    "random.shuffle(indices)\n",
    "ntrain=round(.75*ndata)\n",
    "training_indices=indices[:ntrain]\n",
    "test_indices=indices[ntrain:]"
   ]
  },
  {
   "cell_type": "code",
   "execution_count": 6,
   "metadata": {},
   "outputs": [],
   "source": [
    "XTRAIN=X[training_indices]\n",
    "YTRAIN=Y[training_indices].reshape(-1,1)\n",
    "XTEST=X[test_indices]\n",
    "YTEST=Y[test_indices].reshape(-1,1)"
   ]
  },
  {
   "cell_type": "markdown",
   "metadata": {},
   "source": [
    "## Display some of the data"
   ]
  },
  {
   "cell_type": "code",
   "execution_count": 7,
   "metadata": {},
   "outputs": [
    {
     "name": "stdout",
     "output_type": "stream",
     "text": [
      "[[  480   512  8000    32     0     0]\n",
      " [   23 16000 32000    64    16    32]\n",
      " [   26 16000 32000    64    16    24]]\n",
      "[[ 67]\n",
      " [489]\n",
      " [465]]\n"
     ]
    }
   ],
   "source": [
    "print(XTRAIN[:3])\n",
    "print(YTRAIN[:3])"
   ]
  },
  {
   "cell_type": "markdown",
   "metadata": {},
   "source": [
    "## Multilinear regression with scikit learn"
   ]
  },
  {
   "cell_type": "code",
   "execution_count": 8,
   "metadata": {},
   "outputs": [],
   "source": [
    "from sklearn.linear_model import LinearRegression\n",
    "from sklearn.metrics import mean_squared_error, r2_score"
   ]
  },
  {
   "cell_type": "code",
   "execution_count": 9,
   "metadata": {},
   "outputs": [],
   "source": [
    "r=LinearRegression().fit(XTRAIN,YTRAIN)"
   ]
  },
  {
   "cell_type": "code",
   "execution_count": 10,
   "metadata": {},
   "outputs": [
    {
     "data": {
      "text/plain": [
       "LinearRegression(copy_X=True, fit_intercept=True, n_jobs=1, normalize=False)"
      ]
     },
     "execution_count": 10,
     "metadata": {},
     "output_type": "execute_result"
    }
   ],
   "source": [
    "r"
   ]
  },
  {
   "cell_type": "code",
   "execution_count": 11,
   "metadata": {},
   "outputs": [
    {
     "name": "stdout",
     "output_type": "stream",
     "text": [
      "[-55.79490706]\n"
     ]
    }
   ],
   "source": [
    "print(r.intercept_)"
   ]
  },
  {
   "cell_type": "code",
   "execution_count": 12,
   "metadata": {},
   "outputs": [
    {
     "name": "stdout",
     "output_type": "stream",
     "text": [
      "[[ 0.04860612  0.0125405   0.00631709  0.70457547 -1.61978327  1.69010283]]\n"
     ]
    }
   ],
   "source": [
    "print(r.coef_)"
   ]
  },
  {
   "cell_type": "markdown",
   "metadata": {},
   "source": [
    "## Make a prediction with sklearn"
   ]
  },
  {
   "cell_type": "code",
   "execution_count": 13,
   "metadata": {},
   "outputs": [],
   "source": [
    "P=r.predict(XTEST)"
   ]
  },
  {
   "cell_type": "code",
   "execution_count": 14,
   "metadata": {},
   "outputs": [
    {
     "name": "stdout",
     "output_type": "stream",
     "text": [
      "0.7975113911332077 5975.775754556711\n"
     ]
    }
   ],
   "source": [
    "R2=r2_score(YTEST,P)\n",
    "MSE = mean_squared_error(YTEST,P)\n",
    "print(R2,MSE)"
   ]
  },
  {
   "cell_type": "markdown",
   "metadata": {},
   "source": [
    "## Define functions to calculate the Normal matrix"
   ]
  },
  {
   "cell_type": "code",
   "execution_count": 15,
   "metadata": {},
   "outputs": [],
   "source": [
    "def Normal_Matrix(xdata, ydata):\n",
    "    if xdata.ndim != 2:\n",
    "        print(\"Not a 2x2 array\")\n",
    "        return(float(\"NAN\"))\n",
    "    nrows,ncols=xdata.shape\n",
    "    column_ones=np.ones((nrows,1))\n",
    "    A=np.hstack((column_ones, xdata))\n",
    "\n",
    "    AT=A.T\n",
    "    N=AT.dot(A)\n",
    "    ATy = AT.dot(ydata)\n",
    "    \n",
    "    return(N,ATy)\n",
    "N, ATY=Normal_Matrix(XTRAIN,YTRAIN)"
   ]
  },
  {
   "cell_type": "code",
   "execution_count": 16,
   "metadata": {},
   "outputs": [],
   "source": [
    "import numpy.linalg"
   ]
  },
  {
   "cell_type": "code",
   "execution_count": 17,
   "metadata": {},
   "outputs": [
    {
     "data": {
      "text/plain": [
       "array([[-5.57949071e+01],\n",
       "       [ 4.86061221e-02],\n",
       "       [ 1.25405020e-02],\n",
       "       [ 6.31709086e-03],\n",
       "       [ 7.04575470e-01],\n",
       "       [-1.61978327e+00],\n",
       "       [ 1.69010283e+00]])"
      ]
     },
     "execution_count": 17,
     "metadata": {},
     "output_type": "execute_result"
    }
   ],
   "source": [
    "sol=numpy.linalg.solve(N,ATY)\n",
    "sol"
   ]
  },
  {
   "cell_type": "code",
   "execution_count": 18,
   "metadata": {},
   "outputs": [
    {
     "data": {
      "text/plain": [
       "array([[-5.5795e+01],\n",
       "       [ 4.9000e-02],\n",
       "       [ 1.3000e-02],\n",
       "       [ 6.0000e-03],\n",
       "       [ 7.0500e-01],\n",
       "       [-1.6200e+00],\n",
       "       [ 1.6900e+00]])"
      ]
     },
     "execution_count": 18,
     "metadata": {},
     "output_type": "execute_result"
    }
   ],
   "source": [
    "s=np.around(np.linalg.solve(N,ATY),3)\n",
    "s"
   ]
  },
  {
   "cell_type": "code",
   "execution_count": 19,
   "metadata": {},
   "outputs": [],
   "source": [
    "def predicted_values(coefficients, xvalues):\n",
    "    n=len(coefficients)\n",
    "    nvectors, nfeatures=xvalues.shape\n",
    "    if n!= nfeatures+1:\n",
    "        print(\"The number of coefficients is\",n,\"the vectors have length\",nfeatures)\n",
    "        return(float(\"NAN\"))\n",
    "    output=[]\n",
    "    for vector in xvalues:\n",
    "        U=np.append([1],vector)\n",
    "        y=float(U.dot(coefficients))\n",
    "        output.append(y)\n",
    "    output=np.array(output).reshape(-1,1)\n",
    "    return (output)\n",
    "PRE=predicted_values(sol,XTEST)"
   ]
  },
  {
   "cell_type": "code",
   "execution_count": 20,
   "metadata": {},
   "outputs": [],
   "source": [
    "def MSS(YO, YP):\n",
    "    n=len(YP)\n",
    "    return(float(sum((YO-YP)**2)/n))\n",
    "def TSS(YOBS):\n",
    "    ybar = np.mean(YOBS)\n",
    "    return(float(sum((ybar-YOBS)**2)))"
   ]
  },
  {
   "cell_type": "code",
   "execution_count": 21,
   "metadata": {},
   "outputs": [
    {
     "data": {
      "text/plain": [
       "5975.775754556709"
      ]
     },
     "execution_count": 21,
     "metadata": {},
     "output_type": "execute_result"
    }
   ],
   "source": [
    "MSS(YTEST, PRE)"
   ]
  },
  {
   "cell_type": "code",
   "execution_count": 22,
   "metadata": {},
   "outputs": [
    {
     "data": {
      "text/plain": [
       "1534606.5192307695"
      ]
     },
     "execution_count": 22,
     "metadata": {},
     "output_type": "execute_result"
    }
   ],
   "source": [
    "TSS(YTEST)"
   ]
  },
  {
   "cell_type": "code",
   "execution_count": 23,
   "metadata": {},
   "outputs": [
    {
     "data": {
      "text/plain": [
       "0.7975113911332077"
      ]
     },
     "execution_count": 23,
     "metadata": {},
     "output_type": "execute_result"
    }
   ],
   "source": [
    "def MYR2(YOBS,YPRE):\n",
    "    n=len(YOBS)\n",
    "    rss=n*MSS(YOBS,YPRE)\n",
    "    tss=TSS(YOBS)\n",
    "    return(1-rss/tss)\n",
    "MYR2(YTEST,PRE)"
   ]
  },
  {
   "cell_type": "code",
   "execution_count": 24,
   "metadata": {},
   "outputs": [
    {
     "data": {
      "text/plain": [
       "array([0.79751139])"
      ]
     },
     "execution_count": 24,
     "metadata": {},
     "output_type": "execute_result"
    }
   ],
   "source": [
    "n=len(YTEST)\n",
    "numerator=sum((YTEST-PRE)**2)/n\n",
    "ybar=np.mean(YTEST)\n",
    "denom=sum((YTEST-ybar)**2)/n\n",
    "1-numerator/denom"
   ]
  },
  {
   "cell_type": "code",
   "execution_count": 25,
   "metadata": {},
   "outputs": [
    {
     "data": {
      "text/plain": [
       "52"
      ]
     },
     "execution_count": 25,
     "metadata": {},
     "output_type": "execute_result"
    }
   ],
   "source": [
    "len(YTEST)"
   ]
  },
  {
   "cell_type": "code",
   "execution_count": null,
   "metadata": {},
   "outputs": [],
   "source": []
  }
 ],
 "metadata": {
  "kernelspec": {
   "display_name": "Python 3",
   "language": "python",
   "name": "python3"
  },
  "language_info": {
   "codemirror_mode": {
    "name": "ipython",
    "version": 3
   },
   "file_extension": ".py",
   "mimetype": "text/x-python",
   "name": "python",
   "nbconvert_exporter": "python",
   "pygments_lexer": "ipython3",
   "version": "3.6.7"
  }
 },
 "nbformat": 4,
 "nbformat_minor": 2
}
