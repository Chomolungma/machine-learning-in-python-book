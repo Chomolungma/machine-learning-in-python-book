{
 "cells": [
  {
   "cell_type": "code",
   "execution_count": 1,
   "metadata": {},
   "outputs": [],
   "source": [
    "import numpy as np\n",
    "import pandas as pd\n",
    "import matplotlib.pyplot as plt\n",
    "%matplotlib inline"
   ]
  },
  {
   "cell_type": "markdown",
   "metadata": {},
   "source": [
    "## Read Both Wine Quality Files"
   ]
  },
  {
   "cell_type": "markdown",
   "metadata": {},
   "source": [
    "https://archive.ics.uci.edu/ml/datasets/wine+quality\n",
    "\n",
    "citation:\n",
    "  P. Cortez, A. Cerdeira, F. Almeida, T. Matos and J. Reis. \n",
    "  Modeling wine preferences by data mining from physicochemical properties.\n",
    "  In Decision Support Systems, Elsevier, 47(4):547-553. ISSN: 0167-9236.\n"
   ]
  },
  {
   "cell_type": "code",
   "execution_count": 57,
   "metadata": {
    "scrolled": true
   },
   "outputs": [
    {
     "name": "stdout",
     "output_type": "stream",
     "text": [
      "   fixed acidity  volatile acidity  citric acid  residual sugar  chlorides  \\\n",
      "0            7.4              0.70         0.00             1.9      0.076   \n",
      "1            7.8              0.88         0.00             2.6      0.098   \n",
      "2            7.8              0.76         0.04             2.3      0.092   \n",
      "3           11.2              0.28         0.56             1.9      0.075   \n",
      "4            7.4              0.70         0.00             1.9      0.076   \n",
      "\n",
      "   free sulfur dioxide  total sulfur dioxide  density    pH  sulphates  \\\n",
      "0                 11.0                  34.0   0.9978  3.51       0.56   \n",
      "1                 25.0                  67.0   0.9968  3.20       0.68   \n",
      "2                 15.0                  54.0   0.9970  3.26       0.65   \n",
      "3                 17.0                  60.0   0.9980  3.16       0.58   \n",
      "4                 11.0                  34.0   0.9978  3.51       0.56   \n",
      "\n",
      "   alcohol  quality  \n",
      "0      9.4        5  \n",
      "1      9.8        5  \n",
      "2      9.8        5  \n",
      "3      9.8        6  \n",
      "4      9.4        5  \n",
      "   fixed acidity  volatile acidity  citric acid  residual sugar  chlorides  \\\n",
      "0            7.0              0.27         0.36            20.7      0.045   \n",
      "1            6.3              0.30         0.34             1.6      0.049   \n",
      "2            8.1              0.28         0.40             6.9      0.050   \n",
      "3            7.2              0.23         0.32             8.5      0.058   \n",
      "4            7.2              0.23         0.32             8.5      0.058   \n",
      "\n",
      "   free sulfur dioxide  total sulfur dioxide  density    pH  sulphates  \\\n",
      "0                 45.0                 170.0   1.0010  3.00       0.45   \n",
      "1                 14.0                 132.0   0.9940  3.30       0.49   \n",
      "2                 30.0                  97.0   0.9951  3.26       0.44   \n",
      "3                 47.0                 186.0   0.9956  3.19       0.40   \n",
      "4                 47.0                 186.0   0.9956  3.19       0.40   \n",
      "\n",
      "   alcohol  quality  \n",
      "0      8.8        6  \n",
      "1      9.5        6  \n",
      "2     10.1        6  \n",
      "3      9.9        6  \n",
      "4      9.9        6  \n"
     ]
    }
   ],
   "source": [
    "red=pd.read_csv(\"https://archive.ics.uci.edu/ml/machine-learning-databases/wine-quality/winequality-red.csv\",\n",
    "               sep=\";\")\n",
    "white=pd.read_csv(\"https://archive.ics.uci.edu/ml/machine-learning-databases/wine-quality/winequality-white.csv\",\n",
    "               sep=\";\")\n",
    "print(red[:5])\n",
    "print(white[:5])"
   ]
  },
  {
   "cell_type": "markdown",
   "metadata": {},
   "source": [
    "# Generate a single file with wine properties, but remove the quality flag"
   ]
  },
  {
   "cell_type": "code",
   "execution_count": 59,
   "metadata": {},
   "outputs": [],
   "source": [
    "XRED=np.array(red.drop(columns=[\"quality\"]))\n",
    "XWHITE=np.array(white.drop(columns=[\"quality\"]))"
   ]
  },
  {
   "cell_type": "code",
   "execution_count": 4,
   "metadata": {},
   "outputs": [
    {
     "data": {
      "text/plain": [
       "array([[7.400e+00, 7.000e-01, 0.000e+00, 1.900e+00, 7.600e-02, 1.100e+01,\n",
       "        3.400e+01, 9.978e-01, 3.510e+00, 5.600e-01, 9.400e+00],\n",
       "       [7.800e+00, 8.800e-01, 0.000e+00, 2.600e+00, 9.800e-02, 2.500e+01,\n",
       "        6.700e+01, 9.968e-01, 3.200e+00, 6.800e-01, 9.800e+00],\n",
       "       [7.800e+00, 7.600e-01, 4.000e-02, 2.300e+00, 9.200e-02, 1.500e+01,\n",
       "        5.400e+01, 9.970e-01, 3.260e+00, 6.500e-01, 9.800e+00]])"
      ]
     },
     "execution_count": 4,
     "metadata": {},
     "output_type": "execute_result"
    }
   ],
   "source": [
    "XRED[:3]"
   ]
  },
  {
   "cell_type": "code",
   "execution_count": 5,
   "metadata": {},
   "outputs": [
    {
     "data": {
      "text/plain": [
       "array([[7.000e+00, 2.700e-01, 3.600e-01, 2.070e+01, 4.500e-02, 4.500e+01,\n",
       "        1.700e+02, 1.001e+00, 3.000e+00, 4.500e-01, 8.800e+00],\n",
       "       [6.300e+00, 3.000e-01, 3.400e-01, 1.600e+00, 4.900e-02, 1.400e+01,\n",
       "        1.320e+02, 9.940e-01, 3.300e+00, 4.900e-01, 9.500e+00],\n",
       "       [8.100e+00, 2.800e-01, 4.000e-01, 6.900e+00, 5.000e-02, 3.000e+01,\n",
       "        9.700e+01, 9.951e-01, 3.260e+00, 4.400e-01, 1.010e+01]])"
      ]
     },
     "execution_count": 5,
     "metadata": {},
     "output_type": "execute_result"
    }
   ],
   "source": [
    "XWHITE[:3]"
   ]
  },
  {
   "cell_type": "code",
   "execution_count": 60,
   "metadata": {
    "scrolled": true
   },
   "outputs": [
    {
     "name": "stdout",
     "output_type": "stream",
     "text": [
      "1599 4898 6497\n"
     ]
    }
   ],
   "source": [
    "X=np.vstack([XRED,XWHITE])\n",
    "print(len(XRED),len(XWHITE),len(X))"
   ]
  },
  {
   "cell_type": "markdown",
   "metadata": {},
   "source": [
    "## Define exemplar (Y) values as 1 for red and 0 for white whine"
   ]
  },
  {
   "cell_type": "code",
   "execution_count": 61,
   "metadata": {},
   "outputs": [
    {
     "data": {
      "text/plain": [
       "6497"
      ]
     },
     "execution_count": 61,
     "metadata": {},
     "output_type": "execute_result"
    }
   ],
   "source": [
    "Y=[*(len(XRED)*[1]),*(len(XWHITE)*[0])]\n",
    "len(Y)"
   ]
  },
  {
   "cell_type": "markdown",
   "metadata": {},
   "source": [
    "## build, run, and evaluate an ANN with sklearn"
   ]
  },
  {
   "cell_type": "code",
   "execution_count": null,
   "metadata": {},
   "outputs": [],
   "source": []
  },
  {
   "cell_type": "code",
   "execution_count": 8,
   "metadata": {},
   "outputs": [
    {
     "name": "stdout",
     "output_type": "stream",
     "text": [
      "4872 4872 1625 1625\n",
      "[[1202   17]\n",
      " [  22  384]]\n",
      "Accuracy=  0.976\n",
      "Recall=    0.9458128078817734\n",
      "Precision= 0.9576059850374065\n"
     ]
    }
   ],
   "source": [
    "from sklearn.neural_network import MLPClassifier as ANN\n",
    "from sklearn.model_selection import train_test_split\n",
    "from sklearn.metrics import recall_score, \\\n",
    "  precision_score, roc_auc_score, accuracy_score,confusion_matrix,roc_curve\n",
    "XTRAIN, XTEST, YTRAIN, YTEST=train_test_split(X,Y,test_size=.25)\n",
    "print(len(XTRAIN),len(YTRAIN),len(XTEST),len(YTEST))\n",
    "r = ANN(solver='lbfgs', alpha=1e-5,\n",
    "          hidden_layer_sizes=(3,4,4), random_state=1)\n",
    "r.fit(XTRAIN,YTRAIN)\n",
    "YP=r.predict(XTEST)\n",
    "print(confusion_matrix(YTEST,YP))\n",
    "print(\"Accuracy= \",accuracy_score(YTEST,YP))\n",
    "print(\"Recall=   \",recall_score(YTEST,YP))\n",
    "print(\"Precision=\",precision_score(YTEST,YP) )"
   ]
  },
  {
   "cell_type": "code",
   "execution_count": 9,
   "metadata": {},
   "outputs": [
    {
     "data": {
      "text/plain": [
       "[array([[ -0.10864229,   0.28846875,  -1.18018299],\n",
       "        [ -0.25880407,  -0.46249913, -22.90380117],\n",
       "        [ -0.4107765 ,  -0.20220586,   4.91369848],\n",
       "        [  0.05082238,  -0.10579785,   0.37841769],\n",
       "        [ -0.38695784,   0.49506554,  -3.88479104],\n",
       "        [  0.22319148,  -0.10827203,  -0.12626195],\n",
       "        [ -0.47083794,  -0.39527283,   0.13520811],\n",
       "        [  0.6130904 ,  -0.24428194,   5.00436861],\n",
       "        [  0.49280271,   0.51665473,  -0.77633858],\n",
       "        [ -0.60351116,  -0.43228787, -17.14495319],\n",
       "        [ -0.52588064,  -0.10329303,   1.66677715]]),\n",
       " array([[ 0.34532815,  0.61959834, -0.89194526,  0.46317128],\n",
       "        [ 0.90518315,  0.45950756, -0.40653348,  0.53563431],\n",
       "        [-0.73467318, -0.09648119,  3.68423734, -0.51984163]]),\n",
       " array([[-0.4994683 , -0.40607985, -0.01459553, -0.77358877],\n",
       "        [ 0.1283738 , -0.61187615,  0.15467973,  0.34598716],\n",
       "        [-0.76170769,  0.67321329,  0.82102447, -0.14864394],\n",
       "        [-1.51781188,  2.50806746, -1.00549375,  0.02578837]]),\n",
       " array([[-0.28390842],\n",
       "        [ 1.69255165],\n",
       "        [-1.59090966],\n",
       "        [-0.73316275]])]"
      ]
     },
     "execution_count": 9,
     "metadata": {},
     "output_type": "execute_result"
    }
   ],
   "source": [
    "r.coefs_"
   ]
  },
  {
   "cell_type": "code",
   "execution_count": 10,
   "metadata": {},
   "outputs": [
    {
     "data": {
      "text/plain": [
       "[array([0.04342355, 0.25122611, 4.85225821]),\n",
       " array([-0.39296371, -0.68505397,  2.3678958 ,  0.08407673]),\n",
       " array([-1.12592974,  3.45525172,  1.25503017, -0.62791223]),\n",
       " array([1.18422383])]"
      ]
     },
     "execution_count": 10,
     "metadata": {},
     "output_type": "execute_result"
    }
   ],
   "source": [
    "r.intercepts_"
   ]
  },
  {
   "cell_type": "markdown",
   "metadata": {},
   "source": [
    "## plot the ROC curve for the Red Wine identification"
   ]
  },
  {
   "cell_type": "code",
   "execution_count": 11,
   "metadata": {},
   "outputs": [
    {
     "data": {
      "image/png": "[encoded data removed]",
      "text/plain": [
       "<Figure size 432x432 with 1 Axes>"
      ]
     },
     "metadata": {
      "needs_background": "light"
     },
     "output_type": "display_data"
    }
   ],
   "source": [
    "YPROB=r.predict_proba(XTEST)[:,1]\n",
    "fpr, tpr, threshold = roc_curve(YTEST,YPROB)\n",
    "plt.plot(fpr,tpr, c=\"k\")\n",
    "plt.xlabel(\"False Positive Rate\", fontsize=14)\n",
    "plt.ylabel(\"True Positive Rate\", fontsize=14)\n",
    "plt.grid()\n",
    "plt.plot([0,1],[0,1],ls=\"--\", c=\"k\")\n",
    "fig=plt.gcf()\n",
    "fig.set_size_inches(6,6)\n",
    "fig.tight_layout()\n",
    "fig.savefig(\"ROC-CURVE-NNET-RedWineClassificiation.pdf\")"
   ]
  },
  {
   "cell_type": "markdown",
   "metadata": {},
   "source": [
    "## Code for visualizing a neural network"
   ]
  },
  {
   "cell_type": "code",
   "execution_count": null,
   "metadata": {},
   "outputs": [],
   "source": []
  },
  {
   "cell_type": "code",
   "execution_count": 12,
   "metadata": {},
   "outputs": [],
   "source": [
    "#layers=[2,5,4,5,2]\n",
    "#inputs=[\"input1\",\"input2\"]\n",
    "#outputs=[\"out1\",\"out2\"]\n",
    "from graphviz import Digraph\n",
    "# see https://graphviz.readthedocs.io\n",
    "from os.path import isfile\n",
    "def uniqueFileName(filename, type=\"\"):    \n",
    "    nameparts = filename.rsplit(\".\",1)\n",
    "    if len(nameparts)<2:\n",
    "        nameparts.append(type)\n",
    "    left, right = nameparts\n",
    "    i = 1\n",
    "    fname = left+\".\"+right\n",
    "    while isfile(fname):\n",
    "        fname = left+str(i)+\".\"+right\n",
    "        i += 1\n",
    "    return(fname)\n",
    "\n",
    "def VisualizeNN(hidden, inputs, outputs, file=\"NNVisualization\"):\n",
    "    layers=[len(inputs),*hidden,len(outputs)]\n",
    "    dot=Digraph()\n",
    "    i=1\n",
    "    def nodename(i,j):\n",
    "        return \"L[\"+str(i)+\"][\"+str(j)+\"]\"\n",
    "    for layer in layers:  \n",
    "        for j in range(1,layer+1):\n",
    "            if i==1:\n",
    "                thelabel=inputs[j-1]\n",
    "                theshape=\"ellipse\"\n",
    "            elif i==len(layers):\n",
    "                thelabel=outputs[j-1]\n",
    "                theshape=\"ellipse\"\n",
    "            else:\n",
    "                thelabel=\" \"\n",
    "                theshape=\"circle\"\n",
    "            dot.node(nodename(i,j),label=thelabel,shape=theshape)\n",
    "            if i>1:\n",
    "                thisnode=nodename(i,j)\n",
    "                ilowerlayer=i-1\n",
    "                ilowerlayers=layers[ilowerlayer-1]\n",
    "                for k in range(1,ilowerlayers+1):\n",
    "                    dot.edge(nodename(ilowerlayer,k),thisnode)#,         \n",
    "        i+=1\n",
    "    outputfile=uniqueFileName(file,type=\"gv\")\n",
    "    dot.render(outputfile, view=True)"
   ]
  },
  {
   "cell_type": "markdown",
   "metadata": {},
   "source": [
    "Add newlines to long labels because otherwise it will take up a lot of space"
   ]
  },
  {
   "cell_type": "code",
   "execution_count": 13,
   "metadata": {
    "scrolled": true
   },
   "outputs": [
    {
     "name": "stdout",
     "output_type": "stream",
     "text": [
      "['chlorides', 'pH', 'volatile\\nacidity', 'total\\nsulfur\\ndioxide', 'free\\nsulfur\\ndioxide', 'sulphates', 'citric\\nacid', 'fixed\\nacidity', 'alcohol', 'density', 'residual\\nsugar']\n"
     ]
    }
   ],
   "source": [
    "input_labels=list(set([x.replace(\" \",\"\\n\") for x in list(red.columns)])-set([\"quality\"]))\n",
    "print(input_labels)\n",
    "output_labels=[\"Output = 1 for Red Wine or 0 for White Wine\"]"
   ]
  },
  {
   "cell_type": "code",
   "execution_count": 14,
   "metadata": {},
   "outputs": [],
   "source": [
    "VisualizeNN([3,4,4], input_labels,output_labels)"
   ]
  },
  {
   "cell_type": "markdown",
   "metadata": {},
   "source": [
    "## Repeat the process, this time scale the x data"
   ]
  },
  {
   "cell_type": "code",
   "execution_count": 62,
   "metadata": {},
   "outputs": [
    {
     "name": "stdout",
     "output_type": "stream",
     "text": [
      "4872 4872 1625 1625\n",
      "[[1233    1]\n",
      " [   5  386]]\n",
      "Accuracy=  0.9963076923076923\n",
      "Recall=    0.9872122762148338\n",
      "Precision= 0.9974160206718347\n"
     ]
    }
   ],
   "source": [
    "from sklearn.neural_network import MLPClassifier as ANN\n",
    "from sklearn.model_selection import train_test_split\n",
    "from sklearn.metrics import recall_score, \\\n",
    "  precision_score, roc_auc_score, accuracy_score,confusion_matrix,roc_curve\n",
    "from sklearn.preprocessing import MinMaxScaler\n",
    "scaler = MinMaxScaler()\n",
    "XTRAIN, XTEST, YTRAIN, YTEST=train_test_split(X,Y,test_size=.25)\n",
    "XTRAINT=scaler.fit_transform(XTRAIN)\n",
    "XTESTT=scaler.transform(XTEST)\n",
    "print(len(XTRAIN),len(YTRAIN),len(XTEST),len(YTEST))\n",
    "r = ANN(solver='lbfgs', alpha=1e-5,\n",
    "          hidden_layer_sizes=(3,4,4), random_state=1)\n",
    "r.fit(XTRAINT,YTRAIN)\n",
    "YP=r.predict(XTESTT)\n",
    "print(confusion_matrix(YTEST,YP))\n",
    "print(\"Accuracy= \",accuracy_score(YTEST,YP))\n",
    "print(\"Recall=   \",recall_score(YTEST,YP))\n",
    "print(\"Precision=\",precision_score(YTEST,YP) )"
   ]
  },
  {
   "cell_type": "code",
   "execution_count": 16,
   "metadata": {
    "scrolled": true
   },
   "outputs": [
    {
     "data": {
      "text/plain": [
       "[array([[-5.03404059e-01, -3.05889381e+00, -8.40766598e-01],\n",
       "        [-3.48305758e-01,  2.55264600e+00, -6.64038129e-01],\n",
       "        [-1.07734606e+00, -3.55303286e-01, -3.17796393e-01],\n",
       "        [-2.27771935e-01, -2.36420174e+01,  2.32893871e-01],\n",
       "        [-4.68676270e-01,  2.60385102e+00, -7.00183760e-01],\n",
       "        [-1.39198536e-02,  6.98375768e+00, -2.14889655e-02],\n",
       "        [-1.20359623e+00, -7.78017924e+00,  1.77445828e-01],\n",
       "        [ 2.82772433e-01,  2.68804665e+01,  1.01953993e-01],\n",
       "        [-7.61643436e-01, -1.54209942e+00, -9.78187056e-01],\n",
       "        [-8.26156766e-01,  3.46884958e+00, -1.07052202e-02],\n",
       "        [-1.06072348e+00,  2.30187015e+00,  1.78537678e-01]]),\n",
       " array([[ 0.22035835,  0.5984196 , -0.89190691,  0.14881171],\n",
       "        [ 1.06905705, -7.68671309, -0.40651599, -3.77631146],\n",
       "        [-0.71036062, -0.09648731,  0.75652955, -0.35190779]]),\n",
       " array([[-0.83442529, -0.68155062, -8.90831491, -0.7735555 ],\n",
       "        [-2.66466755, -0.61184984, -1.46546629,  0.34597228],\n",
       "        [-0.68873845, -0.14885107,  0.33669212, -0.14863755],\n",
       "        [ 1.81317041,  0.26519968, -8.50347575,  0.02578726]]),\n",
       " array([[-6.8916013 ],\n",
       "        [ 1.6795658 ],\n",
       "        [ 7.15426063],\n",
       "        [-0.73313122]])]"
      ]
     },
     "execution_count": 16,
     "metadata": {},
     "output_type": "execute_result"
    }
   ],
   "source": [
    "r.coefs_"
   ]
  },
  {
   "cell_type": "code",
   "execution_count": 17,
   "metadata": {},
   "outputs": [
    {
     "data": {
      "text/plain": [
       "[array([-2.19002569, -2.81972644, -1.10012757]),\n",
       " array([ 0.63377748, -5.5327513 , -0.88995946,  0.44011015]),\n",
       " array([ 6.31033859,  3.09730134, -2.84074894, -0.62791223]),\n",
       " array([35.06316162])]"
      ]
     },
     "execution_count": 17,
     "metadata": {},
     "output_type": "execute_result"
    }
   ],
   "source": [
    "r.intercepts_"
   ]
  },
  {
   "cell_type": "code",
   "execution_count": 18,
   "metadata": {},
   "outputs": [
    {
     "data": {
      "image/png": "[encoded data removed]",
      "text/plain": [
       "<Figure size 432x432 with 1 Axes>"
      ]
     },
     "metadata": {
      "needs_background": "light"
     },
     "output_type": "display_data"
    }
   ],
   "source": [
    "YPROB=r.predict_proba(XTESTT)[:,1]\n",
    "fpr, tpr, threshold = roc_curve(YTEST,YPROB)\n",
    "plt.plot(fpr,tpr, c=\"k\")\n",
    "plt.xlabel(\"False Positive Rate\", fontsize=14)\n",
    "plt.ylabel(\"True Positive Rate\", fontsize=14)\n",
    "plt.grid()\n",
    "plt.plot([0,1],[0,1],ls=\"--\", c=\"k\")\n",
    "fig=plt.gcf()\n",
    "fig.set_size_inches(6,6)\n",
    "fig.tight_layout()\n",
    "fig.savefig(\"ROC-CURVE-NNET-RedWineClassificiation.pdf\")"
   ]
  },
  {
   "cell_type": "markdown",
   "metadata": {},
   "source": [
    "### explore accuracy for different size networks"
   ]
  },
  {
   "cell_type": "code",
   "execution_count": 65,
   "metadata": {},
   "outputs": [
    {
     "name": "stdout",
     "output_type": "stream",
     "text": [
      "3 0.24061538461538456\n",
      "4 0.004307692307692346\n",
      "5 0.004923076923076919\n",
      "6 0.004307692307692346\n",
      "7 0.006153846153846176\n",
      "8 0.007384615384615434\n",
      "9 0.004923076923076919\n",
      "10 0.009846153846153838\n",
      "11 0.00676923076923075\n",
      "12 0.005538461538461492\n",
      "13 0.005538461538461492\n",
      "14 0.006153846153846176\n",
      "15 0.005538461538461492\n",
      "16 0.004923076923076919\n",
      "17 0.008000000000000007\n",
      "18 0.00861538461538458\n",
      "19 0.004923076923076919\n"
     ]
    }
   ],
   "source": [
    "accs=[]\n",
    "sizes=range(3,20)\n",
    "for size in sizes:\n",
    "    r = ANN(solver='lbfgs', alpha=1e-5,\n",
    "          hidden_layer_sizes=(size,size,size), random_state=1)\n",
    "    r.fit(XTRAINT,YTRAIN)\n",
    "    YP=r.predict(XTESTT)\n",
    "    acc=accuracy_score(YTEST,YP)\n",
    "    print(size,1-acc)\n",
    "    accs.append(acc)\n"
   ]
  },
  {
   "cell_type": "markdown",
   "metadata": {},
   "source": [
    "## Regression Model"
   ]
  },
  {
   "cell_type": "code",
   "execution_count": 19,
   "metadata": {},
   "outputs": [
    {
     "name": "stdout",
     "output_type": "stream",
     "text": [
      "    mpg  cyl  displ     hp  weight  accel  model  origin  \\\n",
      "0  18.0    8  307.0  130.0  3504.0   12.0     70       1   \n",
      "1  15.0    8  350.0  165.0  3693.0   11.5     70       1   \n",
      "2  18.0    8  318.0  150.0  3436.0   11.0     70       1   \n",
      "3  16.0    8  304.0  150.0  3433.0   12.0     70       1   \n",
      "4  17.0    8  302.0  140.0  3449.0   10.5     70       1   \n",
      "\n",
      "                       carname  \n",
      "0  \"chevrolet chevelle malibu\"  \n",
      "1          \"buick skylark 320\"  \n",
      "2         \"plymouth satellite\"  \n",
      "3              \"amc rebel sst\"  \n",
      "4                \"ford torino\"  \n"
     ]
    }
   ],
   "source": [
    "data=pd.read_fwf(\"https://archive.ics.uci.edu/ml/machine-learning-databases/auto-mpg/auto-mpg.data\",\n",
    "                 header=None,na_values=\"?\")\n",
    "data.columns=(\"mpg\",\"cyl\",\"displ\",\"hp\",\"weight\",\"accel\",\"model\",\"origin\",\"carname\")\n",
    "data = data.dropna(axis=0)\n",
    "print(data[:5])"
   ]
  },
  {
   "cell_type": "code",
   "execution_count": 20,
   "metadata": {},
   "outputs": [
    {
     "data": {
      "text/plain": [
       "0    18.0\n",
       "1    15.0\n",
       "2    18.0\n",
       "3    16.0\n",
       "4    17.0\n",
       "Name: mpg, dtype: float64"
      ]
     },
     "execution_count": 20,
     "metadata": {},
     "output_type": "execute_result"
    }
   ],
   "source": [
    "Y=data[\"mpg\"]\n",
    "Y[:5]"
   ]
  },
  {
   "cell_type": "code",
   "execution_count": 21,
   "metadata": {},
   "outputs": [
    {
     "data": {
      "text/html": [
       "<div>\n",
       "<style scoped>\n",
       "    .dataframe tbody tr th:only-of-type {\n",
       "        vertical-align: middle;\n",
       "    }\n",
       "\n",
       "    .dataframe tbody tr th {\n",
       "        vertical-align: top;\n",
       "    }\n",
       "\n",
       "    .dataframe thead th {\n",
       "        text-align: right;\n",
       "    }\n",
       "</style>\n",
       "<table border=\"1\" class=\"dataframe\">\n",
       "  <thead>\n",
       "    <tr style=\"text-align: right;\">\n",
       "      <th></th>\n",
       "      <th>cyl</th>\n",
       "      <th>displ</th>\n",
       "      <th>hp</th>\n",
       "      <th>weight</th>\n",
       "      <th>accel</th>\n",
       "    </tr>\n",
       "  </thead>\n",
       "  <tbody>\n",
       "    <tr>\n",
       "      <th>0</th>\n",
       "      <td>8</td>\n",
       "      <td>307.0</td>\n",
       "      <td>130.0</td>\n",
       "      <td>3504.0</td>\n",
       "      <td>12.0</td>\n",
       "    </tr>\n",
       "    <tr>\n",
       "      <th>1</th>\n",
       "      <td>8</td>\n",
       "      <td>350.0</td>\n",
       "      <td>165.0</td>\n",
       "      <td>3693.0</td>\n",
       "      <td>11.5</td>\n",
       "    </tr>\n",
       "    <tr>\n",
       "      <th>2</th>\n",
       "      <td>8</td>\n",
       "      <td>318.0</td>\n",
       "      <td>150.0</td>\n",
       "      <td>3436.0</td>\n",
       "      <td>11.0</td>\n",
       "    </tr>\n",
       "    <tr>\n",
       "      <th>3</th>\n",
       "      <td>8</td>\n",
       "      <td>304.0</td>\n",
       "      <td>150.0</td>\n",
       "      <td>3433.0</td>\n",
       "      <td>12.0</td>\n",
       "    </tr>\n",
       "    <tr>\n",
       "      <th>4</th>\n",
       "      <td>8</td>\n",
       "      <td>302.0</td>\n",
       "      <td>140.0</td>\n",
       "      <td>3449.0</td>\n",
       "      <td>10.5</td>\n",
       "    </tr>\n",
       "  </tbody>\n",
       "</table>\n",
       "</div>"
      ],
      "text/plain": [
       "   cyl  displ     hp  weight  accel\n",
       "0    8  307.0  130.0  3504.0   12.0\n",
       "1    8  350.0  165.0  3693.0   11.5\n",
       "2    8  318.0  150.0  3436.0   11.0\n",
       "3    8  304.0  150.0  3433.0   12.0\n",
       "4    8  302.0  140.0  3449.0   10.5"
      ]
     },
     "execution_count": 21,
     "metadata": {},
     "output_type": "execute_result"
    }
   ],
   "source": [
    "X=data[[\"cyl\", \"displ\",\"hp\",\"weight\",\"accel\"]]\n",
    "X[:5]\n"
   ]
  },
  {
   "cell_type": "code",
   "execution_count": 22,
   "metadata": {},
   "outputs": [],
   "source": [
    "from sklearn.neural_network import MLPRegressor as REG"
   ]
  },
  {
   "cell_type": "code",
   "execution_count": 23,
   "metadata": {
    "scrolled": true
   },
   "outputs": [
    {
     "name": "stdout",
     "output_type": "stream",
     "text": [
      "15.940540017273044 2.8638887116313216\n"
     ]
    },
    {
     "data": {
      "image/png": "[encoded data removed]",
      "text/plain": [
       "<Figure size 432x288 with 1 Axes>"
      ]
     },
     "metadata": {
      "needs_background": "light"
     },
     "output_type": "display_data"
    }
   ],
   "source": [
    "#XTRAIN, XTEST, YTRAIN, YTEST=train_test_split(X,Y,test_size=.25)\n",
    "#print(len(XTRAIN),len(YTRAIN),len(XTEST),len(YTEST))\n",
    "errors=[]\n",
    "nruns=25\n",
    "scaler = MinMaxScaler()\n",
    "for j in range(nruns):\n",
    "    XTRAIN, XTEST, YTRAIN, YTEST=train_test_split(X,Y,test_size=.25)\n",
    "    \n",
    "    XTRAINT=scaler.fit_transform(XTRAIN)\n",
    "    XTESTT=scaler.transform(XTEST)\n",
    "    \n",
    "    \n",
    "    r = REG(solver='lbfgs', alpha=1e-5,random_state=1,\n",
    "          hidden_layer_sizes=(5,5,5))\n",
    "    r.fit(XTRAINT,YTRAIN)\n",
    "    YP=r.predict(XTESTT)\n",
    "    err=sum((np.array(YP)-np.array(YTEST))**2)/len(YTEST)\n",
    "    errors.append(err)\n",
    "    if j==0:\n",
    "        plt.scatter(XTEST[\"weight\"],YTEST,label=\"observed\",marker=\"*\",s=5,c=\"magenta\")\n",
    "        plt.scatter(XTEST[\"weight\"],YP,label=\"predicted\",marker=\".\",s=3,c=\"k\")\n",
    "\n",
    "    else:\n",
    "        plt.scatter(XTEST[\"weight\"],YTEST,marker=\"*\",s=5,c=\"magenta\")\n",
    "        plt.scatter(XTEST[\"weight\"],YP,marker=\".\",s=3,c=\"k\")\n",
    "\n",
    "\n",
    "#plt.scatter(XTEST[\"weight\"],YTEST,marker=\"*\",s=25,c=\"magenta\")\n",
    "#print(sum((np.array(YP)-np.array(YTEST))**2)/len(YTEST))\n",
    "#plt.legend(fontsize=12);\n",
    "plt.xlabel(\"Weight\",fontsize=14)\n",
    "plt.ylabel(\"MPG\",fontsize=14)\n",
    "plt.grid()\n",
    "#plt.ylim(0,50)\n",
    "fig=plt.gcf()\n",
    "fig.tight_layout()\n",
    "fig.savefig(\"MPG-NNET-cross-section-vs-weight-1.pdf\")\n",
    "print(np.mean(errors),np.std(errors))"
   ]
  },
  {
   "cell_type": "markdown",
   "metadata": {},
   "source": [
    "# Multi-class classification -- MNIST Digits file"
   ]
  },
  {
   "cell_type": "markdown",
   "metadata": {},
   "source": [
    "code inspired by https://stackoverflow.com/questions/40427435/extract-images-from-idx3-ubyte-file-or-gzip-via-python\n",
    "as per documentation at http://yann.lecun.com/exdb/mnist/"
   ]
  },
  {
   "cell_type": "code",
   "execution_count": 3,
   "metadata": {},
   "outputs": [],
   "source": [
    "from sklearn.neural_network import MLPClassifier as ANN\n",
    "from sklearn.model_selection import train_test_split\n",
    "from sklearn.metrics import recall_score, \\\n",
    "  precision_score, roc_auc_score, accuracy_score,confusion_matrix,roc_curve\n",
    "from sklearn.preprocessing import MinMaxScaler\n",
    "import numpy as np\n",
    "import gzip\n",
    "import matplotlib.pyplot as plt\n",
    "%matplotlib inline"
   ]
  },
  {
   "cell_type": "markdown",
   "metadata": {},
   "source": [
    "function to read an MNIST image file and returns an array of pixels, one line per per image (28x28 pixels)"
   ]
  },
  {
   "cell_type": "code",
   "execution_count": 5,
   "metadata": {},
   "outputs": [],
   "source": [
    "def read_MNIST_images(zipfile):\n",
    "    image_size = 28\n",
    "    num_images=1\n",
    "    maximages=100000\n",
    "    f = gzip.open(zipfile,'r')\n",
    "    X=[]\n",
    "    i=0\n",
    "    f.read(16)\n",
    "    while(True):\n",
    "        buf = f.read(image_size * image_size * num_images)\n",
    "        data = np.frombuffer(buf, dtype=np.uint8).astype(np.float32)\n",
    "        if (len(data)<1) or (i>maximages):\n",
    "            break\n",
    "        data = data.reshape(num_images, image_size, image_size, 1)\n",
    "        data=np.ravel(data)\n",
    "        X.append(data)\n",
    "        i+=1\n",
    "    return(X)"
   ]
  },
  {
   "cell_type": "markdown",
   "metadata": {},
   "source": [
    "Function to read an MNIST Label file and return a list of labels"
   ]
  },
  {
   "cell_type": "code",
   "execution_count": 6,
   "metadata": {},
   "outputs": [],
   "source": [
    "def read_MNIST_labels(zipfile):\n",
    "    f = gzip.open(zipfile,'r')\n",
    "    Y=[]\n",
    "    buf=f.read(8)\n",
    "    header=np.frombuffer(buf,dtype=np.uint8).astype(np.int64)\n",
    "    expect=sum(header[4:]*np.array([256*256*256,256*256,256,1]))\n",
    "    print(header, \" expecting: \",expect,\"flags\")\n",
    "    while (True):\n",
    "        buf = f.read(1 * 32)\n",
    "        labels = np.frombuffer(buf, dtype=np.uint8).astype(np.int64)\n",
    "        if len(labels)>0:\n",
    "            Y=Y+list(labels)\n",
    "        else:\n",
    "            break\n",
    "    return (Y)"
   ]
  },
  {
   "cell_type": "markdown",
   "metadata": {},
   "source": [
    "## Read the MNIST Files\n",
    "The MNIST files must still be in their original gzip form, not unzipped\n",
    "\n",
    "The source web page notes that some browswers may attempt to unzip the files for you; you should turn this process off before you run read_MNIST_images or read_MNIST_labels."
   ]
  },
  {
   "cell_type": "code",
   "execution_count": 7,
   "metadata": {},
   "outputs": [
    {
     "name": "stdout",
     "output_type": "stream",
     "text": [
      "60000 images read\n",
      "10000 images read\n"
     ]
    }
   ],
   "source": [
    "XTRAIN=read_MNIST_images('../data/MNIST/train-images-idx3-ubyte.gz')\n",
    "print(len(XTRAIN),\"images read\")\n",
    "XTEST=read_MNIST_images('../data/MNIST/t10k-images-idx3-ubyte.gz')\n",
    "print(len(XTEST),\"images read\")"
   ]
  },
  {
   "cell_type": "code",
   "execution_count": 8,
   "metadata": {},
   "outputs": [
    {
     "name": "stdout",
     "output_type": "stream",
     "text": [
      "[  0   0   8   1   0   0 234  96]  expecting:  60000 flags\n",
      "60000 [5, 0, 4, 1, 9]\n",
      "[ 0  0  8  1  0  0 39 16]  expecting:  10000 flags\n",
      "10000 [7, 2, 1, 0, 4]\n"
     ]
    }
   ],
   "source": [
    "YTRAIN=read_MNIST_labels(\"../data/MNIST/train-labels-idx1-ubyte.gz\")\n",
    "print(len(YTRAIN), YTRAIN[:5])\n",
    "YTEST=read_MNIST_labels(\"../data/MNIST/t10k-labels-idx1-ubyte.gz\")\n",
    "print(len(YTEST), YTEST[:5])"
   ]
  },
  {
   "cell_type": "markdown",
   "metadata": {},
   "source": [
    "## Function to display some of the MNIST digits as an image\n",
    "\n",
    "display_MNIST(kmin) displays the 25 digits starting at location kmin"
   ]
  },
  {
   "cell_type": "code",
   "execution_count": 29,
   "metadata": {},
   "outputs": [],
   "source": [
    "def display_MNIST(kmin,outfile=\"MNIST-digit-examples.pdf\"):\n",
    "    maxrows=5\n",
    "    fig,ax=plt.subplots(nrows=maxrows,ncols=5)\n",
    "    for irow in range(maxrows):\n",
    "        for icol in range(5):\n",
    "            k=5*irow+icol+kmin\n",
    "            img=np.array(XTRAIN[k]).reshape(28,28)\n",
    "            # subtract from 1 to reverse image\n",
    "            ax[irow][icol].imshow(1-img, aspect=\"auto\",cmap=\"gray\")\n",
    "            ax[irow][icol].set_xticks([])\n",
    "            ax[irow][icol].set_yticks([])\n",
    "    fig.set_size_inches(5,maxrows)\n",
    "    fig.tight_layout()\n",
    "    fig.savefig(outfile)"
   ]
  },
  {
   "cell_type": "code",
   "execution_count": 28,
   "metadata": {},
   "outputs": [
    {
     "data": {
      "image/png": "[encoded data removed]",
      "text/plain": [
       "<Figure size 360x360 with 25 Axes>"
      ]
     },
     "metadata": {},
     "output_type": "display_data"
    }
   ],
   "source": [
    "display_MNIST(0)"
   ]
  },
  {
   "cell_type": "markdown",
   "metadata": {},
   "source": [
    "Transform the feature data to standard interval for classification"
   ]
  },
  {
   "cell_type": "code",
   "execution_count": 30,
   "metadata": {},
   "outputs": [],
   "source": [
    "scaler = MinMaxScaler()\n",
    "XTRAINT=scaler.fit_transform(XTRAIN)\n",
    "XTESTT=scaler.transform(XTEST)"
   ]
  },
  {
   "cell_type": "markdown",
   "metadata": {},
   "source": [
    "Classify with a neural network with 3 hidden layers of size 5, 5, 5"
   ]
  },
  {
   "cell_type": "code",
   "execution_count": 31,
   "metadata": {},
   "outputs": [
    {
     "name": "stdout",
     "output_type": "stream",
     "text": [
      "[[ 798    4   11   37    0  119    4    1    6    0]\n",
      " [   0 1062    4    1    0    1    6    3   58    0]\n",
      " [   0   62  459  250    4   19  111   14  113    0]\n",
      " [   5   52  140  457    2  241   35    7   71    0]\n",
      " [   0   44    2    0  754    0    2  173    7    0]\n",
      " [ 119   37   68  204    2  413   16   12   21    0]\n",
      " [   4   99  204   47    2   11  215    7  369    0]\n",
      " [   0  136    3    0  442    1    5  431   10    0]\n",
      " [   3  298  106   28    3   13   85   11  427    0]\n",
      " [   2   38    4    8  653    0    2  291   11    0]]\n",
      "Accuracy=  0.5016\n"
     ]
    }
   ],
   "source": [
    "r = ANN(solver='lbfgs', alpha=1e-5,\n",
    "          hidden_layer_sizes=(5,5,5), random_state=1)\n",
    "r.fit(XTRAINT,YTRAIN)\n",
    "YP=r.predict(XTESTT)\n",
    "print(confusion_matrix(YTEST,YP))\n",
    "print(\"Accuracy= \",accuracy_score(YTEST,YP))"
   ]
  },
  {
   "cell_type": "markdown",
   "metadata": {},
   "source": [
    "Try again with a hidden layers (10, 10, 10)"
   ]
  },
  {
   "cell_type": "code",
   "execution_count": 32,
   "metadata": {},
   "outputs": [
    {
     "name": "stdout",
     "output_type": "stream",
     "text": [
      "[[ 944    0    1    3    2   12   12    3    1    2]\n",
      " [   0 1091    5   10    1    2    1    1   23    1]\n",
      " [  13    1  902   48   14    1   16   17   15    5]\n",
      " [   7    4   30  869    1   48    2   14   25   10]\n",
      " [   2    2    5    0  878    2   18    0    7   68]\n",
      " [  17    0   12   68   15  684    9    8   65   14]\n",
      " [  24    1   12    0   13   15  880    0   13    0]\n",
      " [   5   11   22    7    2    1    0  918    0   62]\n",
      " [   4   21    9   27   33   89   13    2  764   12]\n",
      " [   8    6    1    6   97   23    3   21    9  835]]\n",
      "Accuracy=  0.8765\n"
     ]
    }
   ],
   "source": [
    "r = ANN(solver='lbfgs', alpha=1e-5,\n",
    "          hidden_layer_sizes=(10,10,10), random_state=1)\n",
    "r.fit(XTRAINT,YTRAIN)\n",
    "YP=r.predict(XTESTT)\n",
    "print(confusion_matrix(YTEST,YP))\n",
    "print(\"Accuracy= \",accuracy_score(YTEST,YP))"
   ]
  },
  {
   "cell_type": "raw",
   "metadata": {},
   "source": [
    "Explore different hidden layer sizes for 3-layer networks"
   ]
  },
  {
   "cell_type": "code",
   "execution_count": 34,
   "metadata": {},
   "outputs": [
    {
     "name": "stdout",
     "output_type": "stream",
     "text": [
      "*****\n",
      "Hidden layers = (5, 5, 5)\n",
      "[[ 798    4   11   37    0  119    4    1    6    0]\n",
      " [   0 1062    4    1    0    1    6    3   58    0]\n",
      " [   0   62  459  250    4   19  111   14  113    0]\n",
      " [   5   52  140  457    2  241   35    7   71    0]\n",
      " [   0   44    2    0  754    0    2  173    7    0]\n",
      " [ 119   37   68  204    2  413   16   12   21    0]\n",
      " [   4   99  204   47    2   11  215    7  369    0]\n",
      " [   0  136    3    0  442    1    5  431   10    0]\n",
      " [   3  298  106   28    3   13   85   11  427    0]\n",
      " [   2   38    4    8  653    0    2  291   11    0]]\n",
      "Accuracy=  0.5016\n",
      "*****\n",
      "Hidden layers = (10, 10, 10)\n",
      "[[ 944    0    1    3    2   12   12    3    1    2]\n",
      " [   0 1091    5   10    1    2    1    1   23    1]\n",
      " [  13    1  902   48   14    1   16   17   15    5]\n",
      " [   7    4   30  869    1   48    2   14   25   10]\n",
      " [   2    2    5    0  878    2   18    0    7   68]\n",
      " [  17    0   12   68   15  684    9    8   65   14]\n",
      " [  24    1   12    0   13   15  880    0   13    0]\n",
      " [   5   11   22    7    2    1    0  918    0   62]\n",
      " [   4   21    9   27   33   89   13    2  764   12]\n",
      " [   8    6    1    6   97   23    3   21    9  835]]\n",
      "Accuracy=  0.8765\n",
      "*****\n",
      "Hidden layers = (20, 20, 20)\n",
      "[[ 957    0    3    2    1    3    7    4    3    0]\n",
      " [   0 1122    3    3    2    1    2    0    2    0]\n",
      " [   5    3  982   13    7    1    4    8    9    0]\n",
      " [   3    2   21  949    1    8    0    7   13    6]\n",
      " [   1    1    5    0  935    1   11    2    0   26]\n",
      " [   9    0    2   13    2  836   15    1    7    7]\n",
      " [   7    3    3    2    9    8  920    2    4    0]\n",
      " [   1    3   11    6    6    3    0  987    0   11]\n",
      " [  12    0    4   13    3   12    6    6  914    4]\n",
      " [   6    3    0    8   28    4    1   10   12  937]]\n",
      "Accuracy=  0.9539\n",
      "*****\n",
      "Hidden layers = (40, 40, 40)\n",
      "[[ 968    0    1    1    0    3    5    0    1    1]\n",
      " [   0 1123    4    2    0    0    2    1    3    0]\n",
      " [   5    2 1006    4    2    0    2    4    6    1]\n",
      " [   0    1    6  980    0    8    0    4    5    6]\n",
      " [   0    1    3    0  949    2    7    3    2   15]\n",
      " [   3    1    0    9    2  863    4    2    2    6]\n",
      " [   6    2    5    1    5    4  935    0    0    0]\n",
      " [   1    4   10    5    2    0    0  995    2    9]\n",
      " [   5    1    3    9    4    4    3    9  934    2]\n",
      " [   3    3    1    7   13    5    1   12    6  958]]\n",
      "Accuracy=  0.9711\n",
      "*****\n",
      "Hidden layers = (80, 80, 80)\n",
      "[[ 968    0    3    0    1    2    2    0    2    2]\n",
      " [   0 1122    3    0    0    1    2    1    6    0]\n",
      " [   4    2 1004    5    2    0    2    8    5    0]\n",
      " [   1    0    7  991    0    3    0    2    4    2]\n",
      " [   0    0    5    0  960    0    5    2    1    9]\n",
      " [   2    0    1   11    0  864    6    0    5    3]\n",
      " [   3    3    1    1    4    5  937    1    3    0]\n",
      " [   0    3    8    4    2    0    1 1001    4    5]\n",
      " [   4    0    2    5    1    5    1    4  950    2]\n",
      " [   1    2    0    4   10    4    3    8    6  971]]\n",
      "Accuracy=  0.9768\n",
      "*****\n",
      "Hidden layers = (160, 160, 160)\n",
      "[[ 969    0    1    1    1    1    2    2    3    0]\n",
      " [   0 1125    3    1    0    0    2    1    3    0]\n",
      " [   3    1 1008    3    3    0    4    4    6    0]\n",
      " [   1    0    4  990    0    5    0    2    4    4]\n",
      " [   1    2    1    1  959    0    3    4    2    9]\n",
      " [   3    0    0   11    1  861    5    1    7    3]\n",
      " [   3    3    1    1    6    4  937    1    2    0]\n",
      " [   1    2   10    3    2    0    0 1003    2    5]\n",
      " [   1    0    4    6    2    1    1    1  955    3]\n",
      " [   2    3    0    6    8    3    2    6    1  978]]\n",
      "Accuracy=  0.9785\n",
      "*****\n",
      "Hidden layers = (320, 320, 320)\n",
      "[[ 968    0    2    0    0    2    4    2    2    0]\n",
      " [   0 1126    2    1    0    1    2    1    2    0]\n",
      " [   4    0 1007    5    3    0    2    4    7    0]\n",
      " [   1    0    8  986    0    2    0    3    6    4]\n",
      " [   0    0    4    0  960    0    3    3    1   11]\n",
      " [   2    1    1   10    1  868    2    1    4    2]\n",
      " [   3    3    1    1    7    2  937    1    3    0]\n",
      " [   0    3    5    1    1    0    0 1009    5    4]\n",
      " [   4    0    4    7    1    4    3    2  944    5]\n",
      " [   1    3    0    3    7    4    0    6    0  985]]\n",
      "Accuracy=  0.979\n"
     ]
    }
   ],
   "source": [
    "accs=[]\n",
    "for size in [5, 10, 20, 40, 80, 160, 320]:\n",
    "    print(\"*****\")\n",
    "    print(\"Hidden layers =\",(size, size, size))\n",
    "    r = ANN(solver='lbfgs', alpha=1e-5,\n",
    "          hidden_layer_sizes=(size, size, size), random_state=1)\n",
    "    r.fit(XTRAINT,YTRAIN)\n",
    "    YP=r.predict(XTESTT)\n",
    "    print(confusion_matrix(YTEST,YP))\n",
    "    acc=accuracy_score(YTEST,YP)\n",
    "    accs.append(acc)\n",
    "    print(\"Accuracy= \",acc)"
   ]
  },
  {
   "cell_type": "code",
   "execution_count": 35,
   "metadata": {},
   "outputs": [
    {
     "data": {
      "text/plain": [
       "[0.5016, 0.8765, 0.9539, 0.9711, 0.9768, 0.9785, 0.979]"
      ]
     },
     "execution_count": 35,
     "metadata": {},
     "output_type": "execute_result"
    }
   ],
   "source": [
    "accs"
   ]
  },
  {
   "cell_type": "code",
   "execution_count": 56,
   "metadata": {},
   "outputs": [
    {
     "data": {
      "image/png": "[encoded data removed]",
      "text/plain": [
       "<Figure size 432x288 with 1 Axes>"
      ]
     },
     "metadata": {
      "needs_background": "light"
     },
     "output_type": "display_data"
    }
   ],
   "source": [
    "sizes=[5, 10, 20, 40, 80, 160, 320]\n",
    "errs=1-np.array(accs)\n",
    "plt.scatter(sizes, errs,c=\"k\")\n",
    "plt.plot(sizes,errs,c=\"k\",ls=\":\")\n",
    "plt.xlabel(\"Layer Size\",fontsize=14)\n",
    "plt.ylabel(\"Error Rate\",fontsize=14)\n",
    "plt.ylim([.01,.6])\n",
    "plt.yscale(\"log\")\n",
    "plt.xscale(\"log\")\n",
    "plt.yticks([.02,.03,.05,.1,.2,.3,.5],[.02,.03,.05,.1,.2,.3,.5])\n",
    "plt.xticks(sizes,sizes)\n",
    "plt.grid(axis=\"both\",which=\"both\")\n",
    "fig=plt.gcf()\n",
    "fig.tight_layout()\n",
    "fig.savefig(\"nnet-error-rate-vs-layer-size-digits.pdf\")"
   ]
  },
  {
   "cell_type": "code",
   "execution_count": null,
   "metadata": {},
   "outputs": [],
   "source": []
  }
 ],
 "metadata": {
  "kernelspec": {
   "display_name": "Python 3",
   "language": "python",
   "name": "python3"
  },
  "language_info": {
   "codemirror_mode": {
    "name": "ipython",
    "version": 3
   },
   "file_extension": ".py",
   "mimetype": "text/x-python",
   "name": "python",
   "nbconvert_exporter": "python",
   "pygments_lexer": "ipython3",
   "version": "3.6.7"
  }
 },
 "nbformat": 4,
 "nbformat_minor": 2
}
